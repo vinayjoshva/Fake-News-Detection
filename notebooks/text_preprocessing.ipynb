{
 "cells": [
  {
   "cell_type": "code",
   "execution_count": 1,
   "metadata": {},
   "outputs": [
    {
     "name": "stdout",
     "output_type": "stream",
     "text": [
      "Requirement already satisfied: gdown in e:\\fake-news-detection\\venv\\lib\\site-packages (5.2.0)\n",
      "Requirement already satisfied: beautifulsoup4 in e:\\fake-news-detection\\venv\\lib\\site-packages (from gdown) (4.12.3)\n",
      "Requirement already satisfied: filelock in e:\\fake-news-detection\\venv\\lib\\site-packages (from gdown) (3.16.1)\n",
      "Requirement already satisfied: requests[socks] in e:\\fake-news-detection\\venv\\lib\\site-packages (from gdown) (2.32.3)\n",
      "Requirement already satisfied: tqdm in e:\\fake-news-detection\\venv\\lib\\site-packages (from gdown) (4.67.0)\n",
      "Requirement already satisfied: soupsieve>1.2 in e:\\fake-news-detection\\venv\\lib\\site-packages (from beautifulsoup4->gdown) (2.6)\n",
      "Requirement already satisfied: charset-normalizer<4,>=2 in e:\\fake-news-detection\\venv\\lib\\site-packages (from requests[socks]->gdown) (3.4.0)\n",
      "Requirement already satisfied: idna<4,>=2.5 in e:\\fake-news-detection\\venv\\lib\\site-packages (from requests[socks]->gdown) (3.10)\n",
      "Requirement already satisfied: urllib3<3,>=1.21.1 in e:\\fake-news-detection\\venv\\lib\\site-packages (from requests[socks]->gdown) (2.2.3)\n",
      "Requirement already satisfied: certifi>=2017.4.17 in e:\\fake-news-detection\\venv\\lib\\site-packages (from requests[socks]->gdown) (2024.8.30)\n",
      "Requirement already satisfied: PySocks!=1.5.7,>=1.5.6 in e:\\fake-news-detection\\venv\\lib\\site-packages (from requests[socks]->gdown) (1.7.1)\n",
      "Requirement already satisfied: colorama in e:\\fake-news-detection\\venv\\lib\\site-packages (from tqdm->gdown) (0.4.6)\n"
     ]
    }
   ],
   "source": [
    "!pip install gdown"
   ]
  },
  {
   "cell_type": "code",
   "execution_count": 2,
   "metadata": {},
   "outputs": [
    {
     "name": "stdout",
     "output_type": "stream",
     "text": [
      "Downloading the dataset for EDA...\n"
     ]
    },
    {
     "name": "stderr",
     "output_type": "stream",
     "text": [
      "Downloading...\n",
      "From: https://drive.google.com/uc?export=download&id=1Sdg9CJKbpmccciLWTvnFv3FCKCrywyls\n",
      "To: e:\\fake-news-detection\\data\\processed\\cleaned_data.csv\n",
      "100%|██████████| 84.1M/84.1M [00:01<00:00, 53.1MB/s]\n"
     ]
    },
    {
     "name": "stdout",
     "output_type": "stream",
     "text": [
      "Dataset loaded successfully.\n"
     ]
    },
    {
     "data": {
      "text/html": [
       "<div>\n",
       "<style scoped>\n",
       "    .dataframe tbody tr th:only-of-type {\n",
       "        vertical-align: middle;\n",
       "    }\n",
       "\n",
       "    .dataframe tbody tr th {\n",
       "        vertical-align: top;\n",
       "    }\n",
       "\n",
       "    .dataframe thead th {\n",
       "        text-align: right;\n",
       "    }\n",
       "</style>\n",
       "<table border=\"1\" class=\"dataframe\">\n",
       "  <thead>\n",
       "    <tr style=\"text-align: right;\">\n",
       "      <th></th>\n",
       "      <th>title</th>\n",
       "      <th>text</th>\n",
       "      <th>label</th>\n",
       "      <th>title_length</th>\n",
       "      <th>text_length</th>\n",
       "      <th>sentiment</th>\n",
       "      <th>readability</th>\n",
       "      <th>label_encoded</th>\n",
       "    </tr>\n",
       "  </thead>\n",
       "  <tbody>\n",
       "    <tr>\n",
       "      <th>0</th>\n",
       "      <td>Donald Trump Sends Out Embarrassing New Year’...</td>\n",
       "      <td>Donald Trump just couldn t wish all Americans ...</td>\n",
       "      <td>FAKE</td>\n",
       "      <td>79</td>\n",
       "      <td>2893</td>\n",
       "      <td>0.082132</td>\n",
       "      <td>71.14</td>\n",
       "      <td>0</td>\n",
       "    </tr>\n",
       "    <tr>\n",
       "      <th>1</th>\n",
       "      <td>Drunk Bragging Trump Staffer Started Russian ...</td>\n",
       "      <td>House Intelligence Committee Chairman Devin Nu...</td>\n",
       "      <td>FAKE</td>\n",
       "      <td>69</td>\n",
       "      <td>1898</td>\n",
       "      <td>-0.005004</td>\n",
       "      <td>62.78</td>\n",
       "      <td>0</td>\n",
       "    </tr>\n",
       "    <tr>\n",
       "      <th>2</th>\n",
       "      <td>Sheriff David Clarke Becomes An Internet Joke...</td>\n",
       "      <td>On Friday, it was revealed that former Milwauk...</td>\n",
       "      <td>FAKE</td>\n",
       "      <td>90</td>\n",
       "      <td>3597</td>\n",
       "      <td>-0.012345</td>\n",
       "      <td>63.59</td>\n",
       "      <td>0</td>\n",
       "    </tr>\n",
       "    <tr>\n",
       "      <th>3</th>\n",
       "      <td>Trump Is So Obsessed He Even Has Obama’s Name...</td>\n",
       "      <td>On Christmas day, Donald Trump announced that ...</td>\n",
       "      <td>FAKE</td>\n",
       "      <td>78</td>\n",
       "      <td>2774</td>\n",
       "      <td>-0.023118</td>\n",
       "      <td>62.07</td>\n",
       "      <td>0</td>\n",
       "    </tr>\n",
       "    <tr>\n",
       "      <th>4</th>\n",
       "      <td>Pope Francis Just Called Out Donald Trump Dur...</td>\n",
       "      <td>Pope Francis used his annual Christmas Day mes...</td>\n",
       "      <td>FAKE</td>\n",
       "      <td>70</td>\n",
       "      <td>2346</td>\n",
       "      <td>-0.011722</td>\n",
       "      <td>67.08</td>\n",
       "      <td>0</td>\n",
       "    </tr>\n",
       "  </tbody>\n",
       "</table>\n",
       "</div>"
      ],
      "text/plain": [
       "                                               title  \\\n",
       "0   Donald Trump Sends Out Embarrassing New Year’...   \n",
       "1   Drunk Bragging Trump Staffer Started Russian ...   \n",
       "2   Sheriff David Clarke Becomes An Internet Joke...   \n",
       "3   Trump Is So Obsessed He Even Has Obama’s Name...   \n",
       "4   Pope Francis Just Called Out Donald Trump Dur...   \n",
       "\n",
       "                                                text label  title_length  \\\n",
       "0  Donald Trump just couldn t wish all Americans ...  FAKE            79   \n",
       "1  House Intelligence Committee Chairman Devin Nu...  FAKE            69   \n",
       "2  On Friday, it was revealed that former Milwauk...  FAKE            90   \n",
       "3  On Christmas day, Donald Trump announced that ...  FAKE            78   \n",
       "4  Pope Francis used his annual Christmas Day mes...  FAKE            70   \n",
       "\n",
       "   text_length  sentiment  readability  label_encoded  \n",
       "0         2893   0.082132        71.14              0  \n",
       "1         1898  -0.005004        62.78              0  \n",
       "2         3597  -0.012345        63.59              0  \n",
       "3         2774  -0.023118        62.07              0  \n",
       "4         2346  -0.011722        67.08              0  "
      ]
     },
     "execution_count": 2,
     "metadata": {},
     "output_type": "execute_result"
    }
   ],
   "source": [
    "# import pandas as pd\n",
    "# df = pd.read_csv('../data/processed/cleaned_data.csv')\n",
    "#https://drive.google.com/file/d/1Sdg9CJKbpmccciLWTvnFv3FCKCrywyls/view?usp=sharing\n",
    "\n",
    "# Downloading and loading the dataset\n",
    "import gdown\n",
    "import pandas as pd\n",
    "\n",
    "# Define Google Drive link for the dataset\n",
    "gdrive_link = \"https://drive.google.com/uc?export=download&id=1Sdg9CJKbpmccciLWTvnFv3FCKCrywyls\"  # Replace FILE_ID_RAW_DATA\n",
    "\n",
    "# Define local path to save the dataset\n",
    "local_path = \"../data/processed/cleaned_data.csv\"\n",
    "\n",
    "# Download the dataset\n",
    "print(\"Downloading the dataset for EDA...\")\n",
    "gdown.download(gdrive_link, local_path, quiet=False)\n",
    "\n",
    "# Load the dataset\n",
    "df = pd.read_csv(local_path)\n",
    "print(\"Dataset loaded successfully.\")\n",
    "\n",
    "df.head()\n"
   ]
  },
  {
   "cell_type": "markdown",
   "metadata": {},
   "source": [
    "# Basic Cleaning"
   ]
  },
  {
   "cell_type": "code",
   "execution_count": 3,
   "metadata": {},
   "outputs": [],
   "source": [
    "#Converting all text to lowercase to ensure consistency\n",
    "df['title'] = df['title'].str.lower()\n",
    "df['text'] = df['text'].str.lower()"
   ]
  },
  {
   "cell_type": "code",
   "execution_count": 4,
   "metadata": {},
   "outputs": [],
   "source": [
    "#Removing Punctuation and Special Characters\n",
    "import re\n",
    "\n",
    "df['title'] = df['title'].apply(lambda x: re.sub(r'[^\\w\\s]', '', x))\n",
    "df['text'] = df['text'].apply(lambda x: re.sub(r'[^\\w\\s]', '', x))\n"
   ]
  },
  {
   "cell_type": "markdown",
   "metadata": {},
   "source": [
    "# Tokenization"
   ]
  },
  {
   "cell_type": "code",
   "execution_count": 4,
   "metadata": {},
   "outputs": [
    {
     "name": "stderr",
     "output_type": "stream",
     "text": [
      "[nltk_data] Downloading package punkt to\n",
      "[nltk_data]     C:\\Users\\joshv\\AppData\\Roaming\\nltk_data...\n",
      "[nltk_data]   Package punkt is already up-to-date!\n",
      "[nltk_data] Downloading package punkt_tab to\n",
      "[nltk_data]     C:\\Users\\joshv\\AppData\\Roaming\\nltk_data...\n",
      "[nltk_data]   Package punkt_tab is already up-to-date!\n",
      "[nltk_data] Downloading package stopwords to\n",
      "[nltk_data]     C:\\Users\\joshv\\AppData\\Roaming\\nltk_data...\n",
      "[nltk_data]   Package stopwords is already up-to-date!\n",
      "[nltk_data] Downloading package wordnet to\n",
      "[nltk_data]     C:\\Users\\joshv\\AppData\\Roaming\\nltk_data...\n",
      "[nltk_data]   Package wordnet is already up-to-date!\n",
      "[nltk_data] Downloading package omw-1.4 to\n",
      "[nltk_data]     C:\\Users\\joshv\\AppData\\Roaming\\nltk_data...\n",
      "[nltk_data]   Package omw-1.4 is already up-to-date!\n"
     ]
    },
    {
     "data": {
      "text/plain": [
       "True"
      ]
     },
     "execution_count": 4,
     "metadata": {},
     "output_type": "execute_result"
    }
   ],
   "source": [
    "import nltk\n",
    "nltk.download('punkt')  # Core tokenizer\n",
    "nltk.download('punkt_tab')\n",
    "nltk.download('stopwords')  # For stopword removal\n",
    "nltk.download('wordnet')  # For lemmatization\n",
    "nltk.download('omw-1.4')  # For WordNet lemmatizer\n"
   ]
  },
  {
   "cell_type": "code",
   "execution_count": 5,
   "metadata": {},
   "outputs": [
    {
     "name": "stdout",
     "output_type": "stream",
     "text": [
      "Requirement already satisfied: nltk in e:\\fake-news-detection\\venv\\lib\\site-packages (3.9.1)\n",
      "Requirement already satisfied: click in e:\\fake-news-detection\\venv\\lib\\site-packages (from nltk) (8.1.7)\n",
      "Requirement already satisfied: joblib in e:\\fake-news-detection\\venv\\lib\\site-packages (from nltk) (1.4.2)\n",
      "Requirement already satisfied: regex>=2021.8.3 in e:\\fake-news-detection\\venv\\lib\\site-packages (from nltk) (2024.11.6)\n",
      "Requirement already satisfied: tqdm in e:\\fake-news-detection\\venv\\lib\\site-packages (from nltk) (4.67.0)\n",
      "Requirement already satisfied: colorama in e:\\fake-news-detection\\venv\\lib\\site-packages (from click->nltk) (0.4.6)\n"
     ]
    }
   ],
   "source": [
    "!pip install nltk"
   ]
  },
  {
   "cell_type": "code",
   "execution_count": 6,
   "metadata": {},
   "outputs": [
    {
     "name": "stdout",
     "output_type": "stream",
     "text": [
      "                                        title_tokens  \\\n",
      "0  [donald, trump, sends, out, embarrassing, new,...   \n",
      "1  [drunk, bragging, trump, staffer, started, rus...   \n",
      "2  [sheriff, david, clarke, becomes, an, internet...   \n",
      "3  [trump, is, so, obsessed, he, even, has, obama...   \n",
      "4  [pope, francis, just, called, out, donald, tru...   \n",
      "\n",
      "                                         text_tokens  \n",
      "0  [donald, trump, just, couldn, t, wish, all, am...  \n",
      "1  [house, intelligence, committee, chairman, dev...  \n",
      "2  [on, friday, it, was, revealed, that, former, ...  \n",
      "3  [on, christmas, day, donald, trump, announced,...  \n",
      "4  [pope, francis, used, his, annual, christmas, ...  \n"
     ]
    }
   ],
   "source": [
    "from nltk.tokenize import word_tokenize\n",
    "\n",
    "def safe_word_tokenize(text):\n",
    "    if not isinstance(text, str):\n",
    "        return []  # Return an empty list for non-string values\n",
    "    return word_tokenize(text)\n",
    "\n",
    "# Apply tokenizer to title and text columns\n",
    "df['title_tokens'] = df['title'].apply(safe_word_tokenize)\n",
    "df['text_tokens'] = df['text'].apply(safe_word_tokenize)\n",
    "\n",
    "# Display tokenized data\n",
    "print(df[['title_tokens', 'text_tokens']].head())\n"
   ]
  },
  {
   "cell_type": "markdown",
   "metadata": {},
   "source": [
    "# Remove Stopwords"
   ]
  },
  {
   "cell_type": "code",
   "execution_count": 7,
   "metadata": {},
   "outputs": [
    {
     "name": "stderr",
     "output_type": "stream",
     "text": [
      "[nltk_data] Downloading package stopwords to\n",
      "[nltk_data]     C:\\Users\\joshv\\AppData\\Roaming\\nltk_data...\n",
      "[nltk_data]   Package stopwords is already up-to-date!\n"
     ]
    }
   ],
   "source": [
    "from nltk.corpus import stopwords\n",
    "import nltk\n",
    "nltk.download('stopwords')\n",
    "\n",
    "stop_words = set(stopwords.words('english'))\n",
    "df['title'] = df['title'].apply(lambda x: ' '.join([word for word in x.split() if word not in stop_words]))\n",
    "df['text'] = df['text'].apply(lambda x: ' '.join([word for word in x.split() if word not in stop_words]))\n",
    "\n",
    "# def preprocess_text(text):\n",
    "#     text = text.lower()  # Lowercase\n",
    "#     text = re.sub(r'[^a-zA-Z0-9\\s]', '', text)  # Remove punctuation\n",
    "#     text = re.sub(r'\\s+', ' ', text).strip()  # Remove extra spaces\n",
    "#     stop_words = set(stopwords.words('english'))\n",
    "#     text = ' '.join(word for word in text.split() if word not in stop_words)  # Remove stopwords\n",
    "#     return text\n",
    "\n",
    "# # Apply to title and text columns\n",
    "# df['title'] = df['title'].apply(preprocess_text)\n"
   ]
  },
  {
   "cell_type": "markdown",
   "metadata": {},
   "source": [
    "# Lemmatization"
   ]
  },
  {
   "cell_type": "code",
   "execution_count": 8,
   "metadata": {},
   "outputs": [
    {
     "name": "stderr",
     "output_type": "stream",
     "text": [
      "[nltk_data] Downloading package wordnet to\n",
      "[nltk_data]     C:\\Users\\joshv\\AppData\\Roaming\\nltk_data...\n",
      "[nltk_data]   Package wordnet is already up-to-date!\n",
      "[nltk_data] Downloading package omw-1.4 to\n",
      "[nltk_data]     C:\\Users\\joshv\\AppData\\Roaming\\nltk_data...\n",
      "[nltk_data]   Package omw-1.4 is already up-to-date!\n"
     ]
    }
   ],
   "source": [
    "from nltk.stem import WordNetLemmatizer\n",
    "nltk.download('wordnet')\n",
    "nltk.download('omw-1.4')\n",
    "\n",
    "lemmatizer = WordNetLemmatizer()\n",
    "\n",
    "df['title'] = df['title'].apply(lambda x: ' '.join([lemmatizer.lemmatize(word) for word in x.split()]))\n",
    "df['text'] = df['text'].apply(lambda x: ' '.join([lemmatizer.lemmatize(word) for word in x.split()]))\n"
   ]
  },
  {
   "cell_type": "code",
   "execution_count": 9,
   "metadata": {},
   "outputs": [],
   "source": [
    "# # Save the dataset with preprocessed text\n",
    "# df.to_csv('text_preprocessed.csv', index=False)\n",
    "# print(\"Preprocessed text saved successfully!\")\n",
    "\n"
   ]
  },
  {
   "cell_type": "code",
   "execution_count": 10,
   "metadata": {},
   "outputs": [
    {
     "name": "stdout",
     "output_type": "stream",
     "text": [
      "<class 'pandas.core.frame.DataFrame'>\n",
      "RangeIndex: 31794 entries, 0 to 31793\n",
      "Data columns (total 10 columns):\n",
      " #   Column         Non-Null Count  Dtype  \n",
      "---  ------         --------------  -----  \n",
      " 0   title          31794 non-null  object \n",
      " 1   text           31794 non-null  object \n",
      " 2   label          31794 non-null  object \n",
      " 3   title_length   31794 non-null  int64  \n",
      " 4   text_length    31794 non-null  int64  \n",
      " 5   sentiment      31794 non-null  float64\n",
      " 6   readability    31794 non-null  float64\n",
      " 7   label_encoded  31794 non-null  int64  \n",
      " 8   title_tokens   31794 non-null  object \n",
      " 9   text_tokens    31794 non-null  object \n",
      "dtypes: float64(2), int64(3), object(5)\n",
      "memory usage: 2.4+ MB\n",
      "None\n"
     ]
    }
   ],
   "source": [
    "print(df.info())"
   ]
  },
  {
   "cell_type": "markdown",
   "metadata": {},
   "source": [
    "# Feature Engineering"
   ]
  },
  {
   "cell_type": "code",
   "execution_count": 11,
   "metadata": {},
   "outputs": [
    {
     "name": "stdout",
     "output_type": "stream",
     "text": [
      "   title_length  text_length  sentiment  readability\n",
      "0      0.516916     0.226032   0.301809     1.022791\n",
      "1     -0.130742    -0.369363  -0.660008     0.497542\n",
      "2      1.229340     0.647296  -0.741033     0.548434\n",
      "3      0.452151     0.154824  -0.859950     0.452934\n",
      "4     -0.065976    -0.101286  -0.734159     0.767706\n"
     ]
    }
   ],
   "source": [
    "# Scale numeric features to ensure they have similar ranges\n",
    "from sklearn.preprocessing import StandardScaler\n",
    "\n",
    "# Numeric features to scale\n",
    "numeric_features = ['title_length', 'text_length', 'sentiment', 'readability']\n",
    "scaler = StandardScaler()\n",
    "\n",
    "# Scale numeric features\n",
    "df[numeric_features] = scaler.fit_transform(df[numeric_features])\n",
    "\n",
    "print(df[numeric_features].head())\n"
   ]
  },
  {
   "cell_type": "code",
   "execution_count": 12,
   "metadata": {},
   "outputs": [
    {
     "name": "stdout",
     "output_type": "stream",
     "text": [
      "Title TF-IDF Shape: (31794, 5000)\n",
      "Text TF-IDF Shape: (31794, 5000)\n"
     ]
    }
   ],
   "source": [
    "from sklearn.feature_extraction.text import TfidfVectorizer\n",
    "\n",
    "# Vectorize titles\n",
    "title_vectorizer = TfidfVectorizer(max_features=5000, stop_words='english')\n",
    "title_vectors = title_vectorizer.fit_transform(df['title'])\n",
    "\n",
    "# Vectorize text\n",
    "text_vectorizer = TfidfVectorizer(max_features=5000, stop_words='english')\n",
    "text_vectors = text_vectorizer.fit_transform(df['text'])\n",
    "\n",
    "print(\"Title TF-IDF Shape:\", title_vectors.shape)\n",
    "print(\"Text TF-IDF Shape:\", text_vectors.shape)\n"
   ]
  },
  {
   "cell_type": "code",
   "execution_count": 13,
   "metadata": {},
   "outputs": [
    {
     "name": "stdout",
     "output_type": "stream",
     "text": [
      "['10', '100', '1000', '10000', '100000', '100k', '11', '12', '12yearold', '13', '13yearold', '14', '15', '150', '16', '17', '18', '19', '20', '200', '2008', '2011', '2012', '2014', '2015', '2016', '2017', '2018', '2019', '2020', '21', '22', '23', '24', '25', '250', '26', '27', '28', '29', '2nd', '30', '300', '31', '33', '35', '36', '37', '38', '40', '400', '42', '44', '4th', '50', '500', '5star', '60', '61', '619', '70', '700', '74', '75', '80', '90', '911', '930', 'abadi', 'abandon', 'abandoned', 'abandoning', 'abbas', 'abc', 'abducted', 'abdullah', 'abe', 'ability', 'able', 'abortion', 'abroad', 'absolute', 'absolutely', 'absurd', 'abu', 'abuse', 'abused', 'academic', 'accept', 'accepting', 'accepts', 'access', 'accession', 'accident', 'accidentally', 'accomplishment', 'accord', 'according', 'account', 'accurate', 'accusation', 'accuse', 'accused', 'accuser', 'accuses', 'accusing', 'acknowledges', 'aclu', 'act', 'acting', 'action', 'active', 'activist', 'activity', 'actor', 'actress', 'actual', 'actually', 'ad', 'adam', 'add', 'added', 'addiction', 'adding', 'additional', 'address', 'adele', 'aden', 'admin', 'administration', 'admiral', 'admission', 'admit', 'admits', 'admitted', 'admitting', 'adopt', 'adult', 'advance', 'advantage', 'advertiser', 'advice', 'advised', 'adviser', 'advisor', 'advisory', 'advocate', 'afd', 'affair', 'affect', 'affected', 'afford', 'affordable', 'afghan', 'afghanistan', 'afraid', 'africa', 'african', 'africanamerican', 'ag', 'age', 'agency', 'agenda', 'agent', 'aggression', 'aggressive', 'ago', 'agree', 'agreed', 'agreement', 'agrees', 'agriculture', 'ahead', 'ahole', 'aid', 'aide', 'ailes', 'aim', 'aimed', 'air', 'aircraft', 'airline', 'airport', 'al', 'alabama', 'alarm', 'alarmed', 'alaska', 'alec', 'aleppo', 'alert', 'alex', 'algeria', 'ali', 'alien', 'alive', 'allegation', 'alleged', 'allegedly', 'alliance', 'allow', 'allowed', 'allowing', 'allows', 'ally', 'alternative', 'altright', 'alzor', 'amaq', 'amazing', 'amazingly', 'amazon', 'ambassador', 'ambush', 'amend', 'amendment', 'america', 'american', 'amid', 'ammon', 'amnesty', 'amy', 'anadolu', 'analysis', 'analyst', 'anc', 'anchor', 'anderson', 'andrea', 'andrew', 'angela', 'angeles', 'anger', 'anglophone', 'angola', 'angry', 'animal', 'ankara', 'ann', 'anne', 'anniversary', 'announce', 'announced', 'announcement', 'announces', 'announcing', 'annual', 'anonymous', 'answer', 'anthem', 'anthony', 'antiabortion', 'anticorruption', 'antigay', 'antigovernment', 'antigraft', 'antigun', 'antihillary', 'antiimmigrant', 'antilgbt', 'antimissile', 'antimuslim', 'antisemitic', 'antisemitism', 'antitrump', 'antitrust', 'anymore', 'aoun', 'ap', 'apart', 'apartment', 'apec', 'apologize', 'apologizes', 'apology', 'app', 'appalled', 'appalling', 'apparent', 'apparently', 'appeal', 'appear', 'appearance', 'appears', 'apple', 'apply', 'appoint', 'appointed', 'appointee', 'appointment', 'appoints', 'apprentice', 'approach', 'appropriate', 'approval', 'approve', 'approved', 'approves', 'april', 'arab', 'arabia', 'arabic', 'arctic', 'area', 'arent', 'argentina', 'argentine', 'argument', 'arizona', 'arkansas', 'arm', 'armed', 'army', 'arnold', 'arpaio', 'arrest', 'arrested', 'arrival', 'arrives', 'arsenal', 'arson', 'art', 'article', 'artist', 'asean', 'asia', 'asian', 'asiapacific', 'aside', 'ask', 'asked', 'asking', 'asks', 'assad', 'assads', 'assails', 'assange', 'assassination', 'assault', 'assaulted', 'assaulting', 'assembly', 'asset', 'associate', 'association', 'assurance', 'assured', 'assures', 'asylum', 'asylumseekers', 'atheist', 'athens', 'athlete', 'atlantic', 'atrocity', 'att', 'attack', 'attacked', 'attacker', 'attacking', 'attempt', 'attempted', 'attend', 'attending', 'attention', 'attorney', 'auction', 'audience', 'audio', 'audit', 'aug', 'august', 'australia', 'australian', 'austria', 'austrian', 'author', 'authority', 'authorization', 'auto', 'autonomy', 'available', 'avert', 'aviation', 'avoid', 'avoidance', 'avoids', 'await', 'awaits', 'award', 'aware', 'away', 'awesome', 'awful', 'awkward', 'awkwardly', 'axios', 'babis', 'baby', 'bachmann', 'backed', 'backer', 'backfire', 'background', 'backing', 'backlash', 'bad', 'badly', 'bag', 'baghdad', 'bahrain', 'bail', 'bailout', 'baio', 'balance', 'baldwin', 'bali', 'balkan', 'ball', 'ballistic', 'ballot', 'baltic', 'baltimore', 'ban', 'band', 'bangladesh', 'bank', 'banker', 'banking', 'bankruptcy', 'banned', 'banner', 'banning', 'bannon', 'bannons', 'bar', 'barack', 'barb', 'barcelona', 'barnier', 'barred', 'barrier', 'barzani', 'base', 'baseball', 'based', 'bash', 'bashed', 'bashing', 'basis', 'basketball', 'bathroom', 'baton', 'batsht', 'battered', 'battery', 'battle', 'battleground', 'bbc', 'beach', 'bear', 'beat', 'beaten', 'beating', 'beautiful', 'beautifully', 'beauty', 'beck', 'bee', 'beef', 'beer', 'beg', 'begging', 'begin', 'beginning', 'begs', 'behar', 'behavior', 'beijing', 'beirut', 'belarus', 'belgian', 'belgium', 'belief', 'believe', 'belt', 'ben', 'benefit', 'benghazi', 'berlin', 'berlusconi', 'bernie', 'best', 'bet', 'betsy', 'bette', 'better', 'betting', 'beyoncé', 'bharara', 'bias', 'bible', 'bid', 'biden', 'big', 'bigger', 'biggest', 'bigot', 'bigoted', 'bigotry', 'bilateral', 'billion', 'billionaire', 'biofuel', 'biofuels', 'bipartisan', 'birth', 'birthday', 'birther', 'bishop', 'bit', 'bite', 'bitter', 'bizarre', 'black', 'blacklist', 'blackmail', 'blame', 'blamed', 'blaming', 'blasio', 'blast', 'blasted', 'blatant', 'blaze', 'blew', 'blind', 'blistering', 'blitz', 'bloc', 'block', 'blockade', 'blocked', 'blocking', 'blogger', 'blood', 'bloodshed', 'bloody', 'bloomberg', 'blow', 'blown', 'blue', 'blueprint', 'board', 'boast', 'boat', 'bob', 'body', 'boehner', 'boeing', 'bogus', 'boko', 'bold', 'bolster', 'bomb', 'bomber', 'bombing', 'bombshell', 'bond', 'bonus', 'boo', 'booed', 'book', 'boom', 'boost', 'boosting', 'boot', 'border', 'boris', 'born', 'bos', 'bosnia', 'bosnian', 'boss', 'boston', 'bought', 'bow', 'bowl', 'box', 'boy', 'boycott', 'brace', 'brady', 'brag', 'bragged', 'bragging', 'brain', 'branch', 'brand', 'brave', 'brawl', 'brazil', 'brazile', 'brazilian', 'breach', 'break', 'breaking', 'breakthrough', 'breitbart', 'brexit', 'bribe', 'bribery', 'bridge', 'bridgegate', 'brief', 'briefing', 'briefly', 'brilliant', 'brilliantly', 'bring', 'bringing', 'brings', 'bristol', 'britain', 'british', 'briton', 'bro', 'broad', 'broadcaster', 'broaden', 'broader', 'broke', 'broken', 'brother', 'brought', 'brown', 'brussels', 'brutal', 'brutality', 'brutally', 'brzezinski', 'btch', 'bubble', 'buddhist', 'buddy', 'budget', 'buffett', 'buhari', 'build', 'building', 'built', 'bulgaria', 'bulgarian', 'bullet', 'bullsht', 'bully', 'bump', 'bunch', 'bundy', 'bundys', 'bureau', 'buried', 'buries', 'burn', 'burned', 'burst', 'burundi', 'bus', 'bush', 'business', 'businessman', 'bust', 'busted', 'buy', 'buying', 'byelection', 'ca', 'cabinet', 'cable', 'cairo', 'caitlyn', 'cake', 'california', 'called', 'calling', 'calm', 'cambodia', 'cambodian', 'came', 'camera', 'cameron', 'cameroon', 'camp', 'campaign', 'campaigner', 'campaigning', 'campus', 'canada', 'canadian', 'cancel', 'canceled', 'cancer', 'candidacy', 'candidate', 'cap', 'capability', 'capital', 'capitol', 'capsizes', 'capture', 'captured', 'car', 'carbon', 'card', 'care', 'career', 'careful', 'caribbean', 'carlson', 'carly', 'carolina', 'carried', 'carrier', 'carry', 'carrying', 'carson', 'carter', 'cartoon', 'case', 'cash', 'casino', 'cast', 'castro', 'casualty', 'catalan', 'catalonia', 'catastrophe', 'catch', 'category', 'catholic', 'caucus', 'caught', 'cause', 'caused', 'causing', 'caution', 'cautious', 'cbo', 'cbs', 'ceasefire', 'ceiling', 'celebrate', 'celebrates', 'celebration', 'celebrity', 'cell', 'cemetery', 'center', 'central', 'centrist', 'ceo', 'ceremony', 'certain', 'cfpb', 'cftc', 'chaffetz', 'chain', 'chair', 'chairman', 'challenge', 'challenger', 'challenging', 'chamber', 'champion', 'chance', 'chancellor', 'change', 'changed', 'changing', 'channel', 'chant', 'chaos', 'chaotic', 'character', 'charge', 'charged', 'charity', 'charles', 'charleston', 'charlotte', 'charlottesville', 'chart', 'charter', 'chase', 'cheating', 'check', 'checking', 'checkpoint', 'cheer', 'cheering', 'chelsea', 'chemical', 'cheney', 'cher', 'chicago', 'chides', 'chief', 'child', 'childrens', 'chile', 'chilean', 'chilling', 'china', 'chinese', 'chip', 'choice', 'choke', 'chomsky', 'choose', 'chooses', 'chris', 'christian', 'christianity', 'christie', 'christmas', 'chuck', 'church', 'cia', 'circle', 'circuit', 'cite', 'citing', 'citizen', 'citizenship', 'city', 'civil', 'civilian', 'claim', 'claimed', 'claiming', 'clampdown', 'clapper', 'clarify', 'clarity', 'clash', 'class', 'classified', 'classmate', 'clayton', 'clean', 'cleansing', 'clear', 'cleared', 'clearly', 'cleric', 'cleveland', 'clever', 'client', 'climate', 'climb', 'clinic', 'clinton', 'clip', 'cliven', 'clock', 'clooney', 'close', 'closed', 'closely', 'closer', 'closing', 'closure', 'cloud', 'clown', 'club', 'clue', 'clueless', 'cnbc', 'cnn', 'cnns', 'coach', 'coal', 'coalition', 'coast', 'coat', 'cocaine', 'code', 'coffee', 'coffin', 'cohen', 'cohn', 'colbert', 'cold', 'colin', 'collapse', 'colleague', 'college', 'collins', 'collision', 'collusion', 'colombia', 'colombian', 'color', 'colorado', 'columnist', 'combat', 'come', 'comeback', 'comedian', 'comedy', 'comey', 'comeys', 'comfort', 'coming', 'command', 'commander', 'comment', 'commentator', 'commerce', 'commercial', 'commission', 'commissioner', 'commit', 'commitment', 'committed', 'committee', 'committing', 'common', 'communication', 'communist', 'community', 'company', 'compare', 'compared', 'comparing', 'comparison', 'complains', 'complaint', 'complete', 'completed', 'completely', 'complex', 'comply', 'compromise', 'computer', 'concealed', 'concern', 'concerned', 'concert', 'concession', 'concrete', 'condemn', 'condemnation', 'condemns', 'condition', 'conduct', 'confederate', 'conference', 'confession', 'confidence', 'confident', 'confirm', 'confirmation', 'confirmed', 'confirming', 'confirms', 'conflict', 'confront', 'confrontation', 'confronts', 'confused', 'confusion', 'congo', 'congratulates', 'congress', 'congressional', 'congressman', 'congresswoman', 'connected', 'connecticut', 'connection', 'consensus', 'consequence', 'conservative', 'consider', 'consideration', 'considered', 'considering', 'considers', 'conspiracy', 'constituent', 'constitution', 'constitutional', 'construction', 'constructive', 'consulate', 'consumer', 'contact', 'contender', 'content', 'contest', 'contested', 'continue', 'continued', 'continues', 'contract', 'contractor', 'contradicts', 'control', 'controversial', 'controversy', 'convention', 'conversation', 'convict', 'convicted', 'conviction', 'convoy', 'conway', 'conways', 'conyers', 'cool', 'cooper', 'cooperate', 'cooperating', 'cooperation', 'coordinate', 'coordination', 'cop', 'corker', 'corner', 'cornyn', 'corp', 'corporate', 'correct', 'correspondent', 'corrupt', 'corruption', 'cosby', 'cost', 'cotton', 'coulter', 'council', 'counsel', 'count', 'countdown', 'counter', 'counterpart', 'counterterrorism', 'country', 'county', 'coup', 'couple', 'course', 'court', 'cover', 'coverage', 'covering', 'coward', 'cowardly', 'cpac', 'crack', 'crackdown', 'craft', 'crap', 'crash', 'craziest', 'crazy', 'cream', 'create', 'created', 'creates', 'creating', 'creation', 'creator', 'credential', 'credibility', 'credible', 'credit', 'creditor', 'creepy', 'crew', 'crime', 'criminal', 'crisis', 'critic', 'critical', 'criticism', 'criticize', 'criticized', 'criticizes', 'criticizing', 'critique', 'croatia', 'crooked', 'crop', 'cross', 'crossing', 'crowd', 'crown', 'crucial', 'cruise', 'crumbles', 'crumbling', 'crunch', 'crush', 'crushed', 'crushing', 'cruz', 'cruzs', 'cuba', 'cuban', 'culture', 'cummings', 'cuomo', 'curb', 'cure', 'currency', 'current', 'custody', 'custom', 'customer', 'cut', 'cutting', 'cyber', 'cyprus', 'czar', 'czech', 'daca', 'dad', 'daddy', 'daily', 'dakota', 'dallas', 'dam', 'damage', 'damaged', 'damaging', 'damascus', 'damn', 'damning', 'dan', 'dance', 'dancing', 'danger', 'dangerous', 'danish', 'dare', 'dark', 'dash', 'data', 'date', 'dating', 'daughter', 'david', 'davis', 'dawn', 'day', 'dc', 'dead', 'deadline', 'deadlock', 'deadly', 'deaf', 'deal', 'dealing', 'dealt', 'death', 'debate', 'debbie', 'debt', 'debut', 'dec', 'decade', 'december', 'decide', 'decided', 'decides', 'decision', 'declaration', 'declare', 'declared', 'declares', 'declaring', 'decline', 'decree', 'decries', 'decry', 'deduction', 'deep', 'deepen', 'deepens', 'deeper', 'deeply', 'default', 'defeat', 'defeated', 'defect', 'defector', 'defend', 'defended', 'defending', 'defends', 'defense', 'defensive', 'defiant', 'deficit', 'defies', 'defund', 'defuse', 'defy', 'defying', 'degeneres', 'degrasse', 'deir', 'delay', 'delayed', 'delegate', 'delegation', 'delete', 'deleted', 'deliver', 'delivered', 'delivering', 'delivers', 'delivery', 'delusional', 'dem', 'demand', 'demanded', 'demanding', 'democracy', 'democrat', 'democratic', 'demonstrates', 'demonstration', 'dems', 'denial', 'denied', 'denier', 'denies', 'denmark', 'denounce', 'denounces', 'denuclearization', 'deny', 'denying', 'department', 'departs', 'departure', 'deplorable', 'deplorables', 'deploy', 'deployment', 'deploys', 'deport', 'deportation', 'deported', 'depot', 'depressing', 'dept', 'deputy', 'derails', 'deranged', 'describes', 'desert', 'deserve', 'deserves', 'designation', 'desperate', 'desperately', 'despicable', 'despite', 'destroy', 'destroyed', 'destroying', 'destroys', 'destruction', 'destructive', 'detain', 'detained', 'detainee', 'detains', 'detected', 'detente', 'detention', 'determined', 'detroit', 'deutsche', 'devastating', 'devastation', 'develop', 'development', 'device', 'devin', 'devos', 'dhabi', 'dhs', 'dialogue', 'diamond', 'dick', 'dictator', 'dictatorship', 'dictionary', 'didnt', 'die', 'died', 'difference', 'different', 'difficult', 'dig', 'digital', 'dilemma', 'dinner', 'dip', 'diplomacy', 'diplomat', 'diplomatic', 'dire', 'direct', 'direction', 'directly', 'director', 'dirt', 'dirty', 'disabled', 'disagree', 'disagreement', 'disagrees', 'disappointed', 'disarray', 'disaster', 'disastrous', 'disclose', 'disclosure', 'discriminate', 'discrimination', 'discus', 'discussed', 'discusses', 'discussing', 'discussion', 'disgraced', 'disgust', 'disgusting', 'dismantle', 'dismiss', 'dismisses', 'disney', 'disperse', 'displaced', 'display', 'dispute', 'disputed', 'disrespect', 'disrespectful', 'disrupt', 'dissent', 'dissident', 'distance', 'district', 'disturbing', 'ditch', 'diversity', 'divide', 'divided', 'division', 'divisive', 'divorce', 'dmz', 'dnc', 'doctor', 'document', 'doddfrank', 'dodge', 'doesnt', 'dog', 'doj', 'dollar', 'domestic', 'donald', 'donate', 'donated', 'donation', 'donna', 'donor', 'dont', 'doom', 'doomed', 'door', 'dossier', 'double', 'doubt', 'dozen', 'dr', 'draft', 'drafted', 'drag', 'dragged', 'drama', 'dramatic', 'draw', 'drawing', 'dream', 'dreamer', 'dress', 'drill', 'drilling', 'drinking', 'drive', 'driven', 'driver', 'driving', 'drone', 'drop', 'dropped', 'dropping', 'drug', 'drugmakers', 'drunk', 'dual', 'duck', 'duke', 'dumb', 'dumbass', 'dumbest', 'dump', 'dup', 'dutch', 'duterte', 'duty', 'dy', 'dying', 'ear', 'early', 'earth', 'earthquake', 'eas', 'ease', 'easier', 'easily', 'easing', 'east', 'eastern', 'easy', 'eating', 'echo', 'economic', 'economist', 'economy', 'edge', 'editor', 'editorial', 'edt', 'edt0130', 'education', 'effect', 'effective', 'effort', 'ego', 'egypt', 'egyptian', 'el', 'elect', 'elected', 'election', 'elector', 'electoral', 'electric', 'eligibility', 'elite', 'elizabeth', 'ellen', 'eln', 'elusive', 'email', 'embargo', 'embarrassed', 'embarrasses', 'embarrassing', 'embarrassment', 'embassy', 'embattled', 'embrace', 'emerge', 'emergency', 'emerges', 'emir', 'emirate', 'emission', 'emotional', 'emperor', 'empire', 'employee', 'employer', 'enact', 'enacts', 'encryption', 'end', 'ended', 'ending', 'endorse', 'endorsed', 'endorsement', 'endorses', 'endorsing', 'enemy', 'energy', 'enforcement', 'engage', 'engagement', 'engine', 'english', 'ensure', 'enter', 'entered', 'entering', 'enters', 'entire', 'entirely', 'entry', 'environment', 'environmental', 'envoy', 'epa', 'epic', 'epically', 'epipen', 'equal', 'equality', 'equifax', 'equity', 'era', 'erdogan', 'eric', 'error', 'erupt', 'erupts', 'escalate', 'escalates', 'escalation', 'escape', 'espionage', 'espn', 'est', 'establishment', 'ethic', 'ethiopia', 'ethiopian', 'ethnic', 'eu', 'euphrates', 'euro', 'europe', 'european', 'evacuate', 'evacuated', 'evacuation', 'evangelical', 'evangelicals', 'evasion', 'eve', 'event', 'evidence', 'evil', 'eviscerates', 'exact', 'exactly', 'exadviser', 'exam', 'examine', 'excatalan', 'excellent', 'exchange', 'excia', 'excited', 'exclusive', 'excongressman', 'excuse', 'exec', 'execute', 'executed', 'executing', 'execution', 'executive', 'exercise', 'exfbi', 'exile', 'exiled', 'exist', 'exit', 'exleader', 'exminister', 'exodus', 'expand', 'expanded', 'expanding', 'expands', 'expansion', 'expect', 'expectation', 'expected', 'expects', 'expel', 'expels', 'expense', 'expensive', 'experience', 'expert', 'explain', 'explaining', 'explains', 'explanation', 'explode', 'explodes', 'exploit', 'explosion', 'explosive', 'expm', 'export', 'expose', 'exposed', 'exposing', 'expresident', 'express', 'extend', 'extends', 'extension', 'extra', 'extradition', 'extreme', 'extremely', 'extremism', 'extremist', 'extrump', 'exus', 'exxon', 'eye', 'eyeing', 'f16', 'f35', 'face', 'facebook', 'facebooks', 'facing', 'fact', 'factbox', 'factory', 'fail', 'failed', 'failing', 'fails', 'failure', 'fair', 'faith', 'fake', 'fakenews', 'faking', 'fall', 'fallen', 'fallon', 'fallout', 'false', 'falsely', 'falter', 'family', 'famine', 'famous', 'fan', 'fantasy', 'far', 'farage', 'farc', 'farewell', 'fargo', 'farm', 'farmer', 'farright', 'fascist', 'fashion', 'fast', 'fatah', 'fatal', 'fate', 'father', 'fault', 'favor', 'favorite', 'fbi', 'fcc', 'fck', 'fcked', 'fcking', 'fcks', 'fda', 'fdp', 'fear', 'fearing', 'featuring', 'feb', 'february', 'fed', 'federal', 'fee', 'feed', 'feel', 'feeling', 'feinstein', 'fell', 'fellow', 'felon', 'felony', 'felt', 'fema', 'female', 'feminist', 'fernandez', 'ferry', 'festival', 'feud', 'fewer', 'fiduciary', 'field', 'fiery', 'fifth', 'fight', 'fighter', 'fighting', 'figure', 'file', 'filed', 'filibuster', 'filing', 'film', 'final', 'finally', 'finance', 'financial', 'financier', 'financing', 'finding', 'fine', 'finger', 'finish', 'finland', 'finnish', 'fiorina', 'fired', 'firework', 'firing', 'firm', 'fiscal', 'fisherman', 'fit', 'fiveyear', 'fix', 'fk', 'fking', 'fl', 'flag', 'flake', 'flame', 'flap', 'flare', 'flat', 'flaw', 'fled', 'flee', 'fleeing', 'flex', 'flight', 'flint', 'flip', 'float', 'flood', 'floor', 'flop', 'florida', 'fly', 'flying', 'flynn', 'flynns', 'fm', 'fmr', 'focus', 'focused', 'foe', 'foil', 'foiled', 'follow', 'follower', 'following', 'follows', 'food', 'fool', 'foot', 'footage', 'football', 'force', 'forced', 'forcing', 'ford', 'forecast', 'foreign', 'foreigner', 'forget', 'forgets', 'forgot', 'form', 'formal', 'formally', 'fortune', 'forum', 'forward', 'foundation', 'founder', 'fourth', 'fox', 'fracking', 'fragile', 'framework', 'france', 'francis', 'francisco', 'frank', 'franken', 'fraud', 'fray', 'freak', 'freaking', 'free', 'freed', 'freedom', 'freeing', 'freeport', 'freeze', 'french', 'fresh', 'fret', 'friday', 'friend', 'friendly', 'frightening', 'frontrunner', 'frozen', 'frustrated', 'ft', 'fuel', 'fugitive', 'fujimori', 'fully', 'fuming', 'fun', 'fund', 'funding', 'fundraiser', 'fundraising', 'funeral', 'funny', 'furious', 'fury', 'future', 'fy', 'g20', 'g7', 'gabby', 'gabriel', 'gag', 'gain', 'game', 'gang', 'gap', 'garland', 'garner', 'gary', 'gas', 'gate', 'gather', 'gave', 'gay', 'gaza', 'gear', 'gender', 'general', 'generation', 'geneva', 'genius', 'genocide', 'george', 'georgia', 'german', 'germany', 'gerrymandering', 'gesture', 'getting', 'giant', 'giffords', 'gift', 'gillibrand', 'gingrich', 'ginsburg', 'girl', 'girlfriend', 'giuliani', 'given', 'giving', 'glenn', 'global', 'globe', 'glorious', 'gmt', 'goal', 'god', 'going', 'gold', 'goldberg', 'golden', 'goldman', 'golf', 'golfing', 'gone', 'gonna', 'good', 'goodbye', 'google', 'goon', 'gop', 'goper', 'gopers', 'gore', 'gorilla', 'gorsuch', 'got', 'gov', 'government', 'governor', 'govt', 'gowdy', 'grab', 'grace', 'grader', 'graduate', 'graft', 'graham', 'grand', 'grant', 'granted', 'grapple', 'grassley', 'grave', 'great', 'greater', 'greatest', 'greece', 'greedy', 'greek', 'green', 'greets', 'grenfell', 'grid', 'grievance', 'griffin', 'grill', 'grilled', 'grip', 'groping', 'gross', 'ground', 'group', 'grow', 'growing', 'grows', 'growth', 'guantanamo', 'guarantee', 'guard', 'guatemala', 'guatemalan', 'guerrilla', 'guess', 'guest', 'guide', 'guideline', 'guilty', 'guinea', 'gulen', 'gulf', 'gun', 'gunfire', 'gunman', 'gut', 'guy', 'habit', 'hack', 'hacked', 'hacker', 'hacking', 'hail', 'hair', 'haley', 'half', 'hall', 'halloween', 'halt', 'hamas', 'hamilton', 'hammer', 'hammered', 'hammond', 'hampshire', 'hand', 'handed', 'handle', 'handling', 'handover', 'handshake', 'hang', 'hanging', 'hannity', 'happen', 'happened', 'happening', 'happens', 'happy', 'haram', 'harassment', 'hard', 'harder', 'hardline', 'hariri', 'hariris', 'harm', 'harry', 'harsh', 'harvard', 'harvey', 'hashtag', 'hastert', 'hat', 'hatch', 'hate', 'hated', 'hateful', 'hatred', 'havana', 'hawaii', 'head', 'headed', 'heading', 'headquarters', 'heal', 'health', 'healthcare', 'hear', 'heard', 'hearing', 'hears', 'heart', 'heartbreaking', 'heartland', 'heat', 'heavy', 'heckler', 'hed', 'hedge', 'height', 'held', 'helicopter', 'hell', 'help', 'helped', 'helping', 'herald', 'heritage', 'hero', 'hey', 'hezbollah', 'hid', 'hidden', 'hide', 'hiding', 'high', 'higher', 'highest', 'highlight', 'highly', 'hike', 'hilarious', 'hilariously', 'hill', 'hillary', 'hindu', 'hint', 'hire', 'hired', 'hiring', 'hispanic', 'hissy', 'historian', 'historic', 'history', 'hit', 'hitler', 'hitting', 'hoax', 'hold', 'holder', 'holding', 'holiday', 'hollande', 'hollywood', 'holocaust', 'holy', 'home', 'homeland', 'homeless', 'hometown', 'homophobic', 'honduran', 'honduras', 'honest', 'hong', 'honor', 'hook', 'hope', 'hopeful', 'hoping', 'horrible', 'horribly', 'horrific', 'horrifying', 'horror', 'hospital', 'hospitalized', 'host', 'hostage', 'hostile', 'hot', 'hotel', 'hour', 'house', 'housing', 'houston', 'houthi', 'houthis', 'howard', 'hq', 'hub', 'huckabee', 'huge', 'human', 'humanitarian', 'humanity', 'humiliate', 'humiliated', 'humiliates', 'humiliating', 'hun', 'hungarian', 'hungary', 'hunger', 'hunt', 'huntsman', 'hurdle', 'hurricane', 'hurt', 'hurting', 'husband', 'hw', 'hypocrisy', 'hypocrite', 'hypocritical', 'iaea', 'icahn', 'ican', 'icbm', 'ice', 'iceland', 'icon', 'id', 'idaho', 'idea', 'identifies', 'identify', 'identity', 'idiot', 'idiotic', 'idlib', 'ifax', 'ifx', 'ignorance', 'ignorant', 'ignore', 'ignores', 'ignoring', 'ill', 'illegal', 'illegally', 'illegals', 'illinois', 'illness', 'im', 'image', 'imagesvideo', 'imagevideo', 'imaginable', 'immediate', 'immediately', 'immigrant', 'immigration', 'imminent', 'immunity', 'impact', 'impasse', 'impeach', 'impeached', 'impeaching', 'impeachment', 'implement', 'import', 'importance', 'important', 'impose', 'imposes', 'imposing', 'impossible', 'impression', 'improve', 'improved', 'inappropriate', 'inaugural', 'inauguration', 'incident', 'inciting', 'include', 'includes', 'including', 'income', 'incoming', 'incompetent', 'increase', 'increased', 'incredible', 'incredibly', 'independence', 'independent', 'india', 'indian', 'indiana', 'indicates', 'indicted', 'indictment', 'indicts', 'indigenous', 'individual', 'indonesia', 'indonesian', 'industry', 'inequality', 'inevitable', 'influence', 'influencepeddling', 'influx', 'info', 'informant', 'information', 'informed', 'infrastructure', 'infuriating', 'initial', 'initiative', 'injured', 'injures', 'injury', 'inmate', 'inner', 'innocent', 'inquiry', 'insane', 'insanely', 'inside', 'insider', 'insists', 'inspired', 'instagram', 'instant', 'instead', 'insult', 'insulted', 'insulting', 'insurance', 'insurer', 'insurgent', 'intel', 'intelligence', 'intensifies', 'intent', 'interested', 'interfax', 'interference', 'interfering', 'interim', 'interior', 'internal', 'international', 'internet', 'intervention', 'interview', 'interviewed', 'intimidation', 'introduce', 'introduces', 'inversion', 'investigate', 'investigated', 'investigates', 'investigating', 'investigation', 'investigator', 'investment', 'investor', 'invitation', 'invite', 'invited', 'involved', 'involvement', 'iowa', 'iran', 'iranian', 'iranianbacked', 'iraq', 'iraqi', 'ire', 'ireland', 'irish', 'irma', 'irony', 'irregularity', 'irs', 'isi', 'islam', 'islamic', 'islamist', 'island', 'isnt', 'isolated', 'israel', 'israeli', 'issue', 'issued', 'issuing', 'istanbul', 'italian', 'italy', 'item', 'ivanka', 'ivankas', 'ivory', 'jab', 'jackson', 'jail', 'jailed', 'jakarta', 'jake', 'jamaica', 'james', 'jan', 'january', 'japan', 'japanese', 'jared', 'jeb', 'jeff', 'jenner', 'jerry', 'jersey', 'jerusalem', 'jesus', 'jet', 'jew', 'jewish', 'jfk', 'jihadist', 'jill', 'jim', 'jimmy', 'jk', 'job', 'jobbik', 'joe', 'john', 'johnson', 'join', 'joining', 'joint', 'joke', 'jon', 'jones', 'jong', 'jordan', 'journal', 'journalist', 'joy', 'jr', 'judge', 'judicial', 'judiciary', 'july', 'jump', 'juncker', 'june', 'junior', 'junta', 'jury', 'justice', 'justin', 'kabul', 'kaepernick', 'kaine', 'kansa', 'karma', 'kasich', 'kaspersky', 'katrina', 'kazakhstan', 'keen', 'keeping', 'keith', 'kelly', 'kellyanne', 'ken', 'kennedy', 'kentucky', 'kenya', 'kenyan', 'kenyatta', 'kept', 'kerry', 'key', 'keystone', 'khamenei', 'khan', 'khizr', 'kick', 'kicked', 'kid', 'kidnapped', 'kidnapping', 'kiev', 'kill', 'killed', 'killer', 'killing', 'kim', 'kimmel', 'kind', 'kindergarten', 'king', 'kingdom', 'kingmaker', 'kirkuk', 'kiss', 'kissing', 'kkk', 'kneel', 'knew', 'knife', 'knock', 'know', 'knowing', 'known', 'koch', 'koike', 'kong', 'korea', 'korean', 'koreaus', 'kosovo', 'kremlin', 'kuczynski', 'kurd', 'kurdish', 'kurdistan', 'kurz', 'kushner', 'kushners', 'kuwait', 'kyi', 'kyrgyzstan', 'la', 'lab', 'label', 'labor', 'labour', 'lack', 'lady', 'lag', 'lahren', 'laid', 'land', 'landing', 'landmark', 'landslide', 'language', 'lanka', 'laptop', 'large', 'largely', 'largest', 'larry', 'lash', 'late', 'later', 'latest', 'latin', 'latino', 'lauds', 'laugh', 'laughable', 'laughed', 'laughing', 'launch', 'laundering', 'laura', 'lavrov', 'law', 'lawmaker', 'lawrence', 'lawsuit', 'lawyer', 'lay', 'lazy', 'le', 'lead', 'leader', 'leadership', 'leading', 'leaf', 'league', 'leak', 'leaked', 'leaker', 'lean', 'learn', 'leave', 'leaving', 'lebanese', 'lebanon', 'led', 'lee', 'left', 'leftist', 'legacy', 'legal', 'legalize', 'legally', 'legend', 'legendary', 'legislation', 'legislative', 'legislature', 'legitimate', 'lemon', 'lepage', 'lesbian', 'lesson', 'let', 'letter', 'letting', 'level', 'lew', 'lewd', 'lewis', 'lgbt', 'lgbtq', 'liar', 'libel', 'liberal', 'liberia', 'liberian', 'libertarian', 'liberty', 'libya', 'libyan', 'license', 'lie', 'lied', 'life', 'lifetime', 'lift', 'lifting', 'light', 'lighthizer', 'like', 'likely', 'limbo', 'limit', 'limited', 'lincoln', 'lindsey', 'line', 'linger', 'link', 'linked', 'list', 'listen', 'listening', 'lit', 'literally', 'little', 'live', 'livid', 'living', 'loan', 'lobby', 'lobbying', 'lobbyist', 'local', 'lock', 'lockheed', 'log', 'lol', 'london', 'long', 'longer', 'longrange', 'longterm', 'longtime', 'look', 'looking', 'loom', 'looming', 'loose', 'looting', 'lord', 'los', 'lose', 'loser', 'loses', 'losing', 'loss', 'lost', 'lot', 'louis', 'louisiana', 'love', 'lover', 'low', 'lower', 'lowest', 'lowincome', 'loyalty', 'lt', 'lula', 'lunatic', 'lunch', 'luther', 'luxury', 'lying', 'lynch', 'macedonia', 'machine', 'macri', 'macron', 'mad', 'maddow', 'madrid', 'maduro', 'magazine', 'magnitude', 'maher', 'mail', 'main', 'maine', 'mainstream', 'maintain', 'major', 'majority', 'make', 'maker', 'making', 'malaysia', 'malaysian', 'male', 'mali', 'malia', 'mall', 'malta', 'maltese', 'man', 'manafort', 'manage', 'management', 'manager', 'manchester', 'mandate', 'manila', 'manning', 'manufacturing', 'maoist', 'map', 'maralago', 'marawi', 'march', 'marco', 'maria', 'marijuana', 'marine', 'mark', 'market', 'markle', 'marriage', 'married', 'marseille', 'martial', 'martin', 'maryland', 'mass', 'massachusetts', 'massacre', 'massive', 'match', 'mate', 'material', 'math', 'matt', 'matter', 'mattis', 'maxine', 'mayor', 'mccain', 'mccains', 'mccarthy', 'mcconnell', 'mcdonalds', 'mean', 'meant', 'measure', 'medal', 'meddling', 'mediate', 'mediation', 'medicaid', 'medical', 'medicare', 'mediterranean', 'medium', 'meet', 'meeting', 'meghan', 'megyn', 'melania', 'melanias', 'melt', 'meltdown', 'member', 'membership', 'meme', 'memo', 'memorial', 'memory', 'men', 'menendez', 'mental', 'mentally', 'mention', 'mercilessly', 'merkel', 'merkels', 'meryl', 'mess', 'message', 'met', 'methane', 'metro', 'mexican', 'mexico', 'meyers', 'mi', 'miami', 'mic', 'michael', 'michele', 'michelle', 'michigan', 'microsoft', 'middle', 'mideast', 'midler', 'midterm', 'migrant', 'migration', 'mika', 'mike', 'militant', 'military', 'militia', 'militiaman', 'milk', 'million', 'milo', 'mind', 'miner', 'mineral', 'minimum', 'mining', 'minion', 'minister', 'ministry', 'minnesota', 'minor', 'minority', 'minute', 'miracle', 'misconduct', 'miserably', 'misleading', 'miss', 'missile', 'missing', 'mission', 'mississippi', 'missouri', 'misspelled', 'mistake', 'mistura', 'mitch', 'mitt', 'mixed', 'mladic', 'mlk', 'mnangagwa', 'mnuchin', 'mob', 'mock', 'mocked', 'mockery', 'mocking', 'mode', 'model', 'moderate', 'moderator', 'modern', 'modi', 'mogadishu', 'molester', 'mom', 'moment', 'momentum', 'monday', 'money', 'monitor', 'monitoring', 'monk', 'monster', 'montana', 'montel', 'month', 'monument', 'moody', 'moon', 'moore', 'moral', 'morale', 'morgan', 'morning', 'morocco', 'moron', 'moscow', 'mosque', 'mosul', 'mother', 'motion', 'mount', 'mourning', 'mouth', 'moved', 'movement', 'movie', 'moving', 'mp', 'mr', 'msnbc', 'mueller', 'muellers', 'mugabe', 'mugabes', 'mull', 'mulling', 'multiple', 'mulvaney', 'munich', 'municipal', 'murder', 'murdered', 'murderer', 'murdering', 'muscle', 'museum', 'museveni', 'music', 'muslim', 'mutual', 'myanmar', 'mylan', 'mysterious', 'mystery', 'myth', 'naacp', 'nafta', 'nail', 'nailed', 'najib', 'naked', 'nam', 'named', 'naming', 'nancy', 'narrow', 'nasa', 'nasty', 'nate', 'nation', 'national', 'nationalist', 'nationwide', 'native', 'nato', 'natural', 'navalny', 'navy', 'nazi', 'nba', 'nbc', 'nc', 'near', 'nearing', 'nearly', 'nears', 'necessary', 'need', 'needed', 'negative', 'negotiate', 'negotiation', 'negotiator', 'neighbor', 'neighborhood', 'neil', 'neonazi', 'neonazis', 'nepal', 'net', 'netanyahu', 'netherlands', 'network', 'neutrality', 'nevada', 'nevertrump', 'new', 'newest', 'newly', 'news', 'newspaper', 'newt', 'nfl', 'ngo', 'nhc', 'nice', 'nicolle', 'nieto', 'niger', 'nigeria', 'nigerian', 'night', 'nightclub', 'nightmare', 'nikki', 'nixon', 'nj', 'nkorea', 'noah', 'noam', 'nobel', 'noconfidence', 'nod', 'nominate', 'nominated', 'nominates', 'nominating', 'nomination', 'nominee', 'nonsense', 'nordic', 'normal', 'north', 'northeast', 'northern', 'norway', 'norwegian', 'note', 'notice', 'nov', 'november', 'nra', 'nsa', 'ntv', 'nuclear', 'nugent', 'nuke', 'number', 'nunes', 'nurse', 'nut', 'ny', 'nyc', 'nye', 'nypd', 'nyt', 'nz', 'oath', 'obama', 'obamacare', 'obamaera', 'obamas', 'object', 'objection', 'obligation', 'obliterated', 'obliterates', 'observatory', 'observer', 'obsessed', 'obsession', 'obsolete', 'obstacle', 'obstruct', 'obstruction', 'obtain', 'obvious', 'occupation', 'occupy', 'oct', 'october', 'odds', 'odebrecht', 'odinga', 'odonnell', 'offended', 'offender', 'offensive', 'offer', 'offered', 'offering', 'office', 'officer', 'official', 'officially', 'offshore', 'ohio', 'oil', 'ok', 'okay', 'oklahoma', 'olbermann', 'old', 'oliver', 'olympics', 'onion', 'online', 'oops', 'oped', 'open', 'opened', 'opening', 'openly', 'operating', 'operation', 'operative', 'opinion', 'opioid', 'opponent', 'opportunity', 'oppose', 'opposed', 'opposes', 'opposing', 'opposition', 'optimism', 'optimistic', 'option', 'orange', 'orban', 'order', 'ordered', 'orderly', 'oregon', 'oreilly', 'organization', 'organizer', 'origin', 'orlando', 'oscar', 'osce', 'oust', 'ousted', 'ouster', 'outcome', 'outlet', 'outline', 'outrage', 'outraged', 'outrageous', 'outreach', 'outside', 'oval', 'overhaul', 'override', 'overseas', 'oversee', 'oversight', 'overthrow', 'overtime', 'overturn', 'overwhelmingly', 'owned', 'owner', 'owns', 'oxford', 'pac', 'pace', 'pacific', 'package', 'pact', 'page', 'paid', 'pain', 'painful', 'paint', 'pakistan', 'pakistani', 'pal', 'palace', 'palestine', 'palestinian', 'palin', 'palins', 'panama', 'pander', 'panel', 'panelist', 'panic', 'panicking', 'pant', 'paper', 'papua', 'parade', 'paramilitary', 'pardon', 'parent', 'parenthood', 'paris', 'park', 'parliament', 'parliamentary', 'parody', 'partial', 'partisan', 'partner', 'partnership', 'party', 'pas', 'pass', 'passage', 'passed', 'passenger', 'passing', 'passport', 'past', 'pastor', 'pat', 'path', 'pathetic', 'pathetically', 'patient', 'patriot', 'patrol', 'patton', 'paul', 'pause', 'pave', 'pay', 'paying', 'payment', 'peace', 'peaceful', 'peacekeeper', 'pedophile', 'pee', 'pelosi', 'pen', 'pena', 'penalty', 'pences', 'pending', 'peninsula', 'pennsylvania', 'penny', 'pension', 'pentagon', 'people', 'percent', 'perfect', 'perfectly', 'perform', 'performance', 'period', 'perjury', 'permanent', 'permission', 'permit', 'perry', 'persist', 'person', 'personal', 'personally', 'personnel', 'peru', 'petition', 'petraeus', 'petty', 'pharma', 'phase', 'philadelphia', 'philippine', 'phoenix', 'phone', 'phony', 'photo', 'photographer', 'pic', 'pick', 'picked', 'picture', 'piece', 'pilot', 'pin', 'pinera', 'pipeline', 'piss', 'pissed', 'pit', 'pitch', 'pittsburgh', 'pivot', 'pizza', 'place', 'plan', 'plane', 'planet', 'planned', 'planning', 'plant', 'platform', 'play', 'player', 'playing', 'plea', 'plead', 'pleads', 'pledge', 'plot', 'plotter', 'plotting', 'pm', 'png', 'pocahontas', 'pocket', 'podesta', 'poem', 'point', 'poised', 'poison', 'poisoned', 'poisoning', 'poke', 'poland', 'police', 'policeman', 'policy', 'polish', 'political', 'politically', 'politician', 'politico', 'politics', 'poll', 'polling', 'pompeo', 'poor', 'pop', 'pope', 'popular', 'popularity', 'population', 'populism', 'populist', 'porn', 'pornography', 'poroshenko', 'port', 'portland', 'portugal', 'pose', 'position', 'positive', 'possibility', 'possible', 'possibly', 'post', 'postbrexit', 'postcoup', 'posted', 'postelection', 'poster', 'posting', 'postponed', 'postpones', 'pot', 'potential', 'potus', 'pound', 'pour', 'poverty', 'powell', 'power', 'powerful', 'powersharing', 'practically', 'practice', 'praise', 'praised', 'praising', 'prayer', 'prays', 'preacher', 'predator', 'predicted', 'prediction', 'predicts', 'preelection', 'prefer', 'pregnant', 'premier', 'premium', 'preparation', 'prepare', 'prepared', 'prepares', 'preparing', 'pres', 'presence', 'present', 'preserve', 'preserved', 'presidency', 'president', 'presidentelect', 'presidential', 'press', 'pressure', 'pressured', 'pretend', 'pretending', 'pretty', 'prevent', 'price', 'priceless', 'pricing', 'pride', 'priebus', 'priest', 'primary', 'prime', 'prince', 'principle', 'prior', 'priority', 'prison', 'prisoner', 'privacy', 'private', 'privatize', 'privilege', 'prize', 'pro', 'probably', 'probe', 'probed', 'probing', 'problem', 'proceed', 'process', 'prod', 'produce', 'producer', 'product', 'production', 'productive', 'prof', 'professor', 'profile', 'profit', 'profound', 'program', 'progress', 'progressive', 'proindependence', 'project', 'prolife', 'prominent', 'promise', 'promised', 'promising', 'promote', 'promotes', 'prompt', 'promptly', 'proof', 'propaganda', 'property', 'proposal', 'propose', 'proposed', 'proposes', 'prosecute', 'prosecution', 'prosecutor', 'prospect', 'protect', 'protected', 'protecting', 'protection', 'protectionism', 'protectionist', 'protest', 'protester', 'protesting', 'protrump', 'proud', 'prove', 'proved', 'provide', 'province', 'proving', 'provision', 'provocation', 'provocative', 'provoke', 'pruitt', 'ps', 'pssed', 'pssy', 'public', 'publicly', 'publisher', 'puerto', 'puigdemont', 'pull', 'pulled', 'pulling', 'pullout', 'pummel', 'punch', 'punched', 'pundit', 'punish', 'punished', 'punishing', 'punishment', 'puppet', 'purchase', 'pure', 'purge', 'purple', 'pursue', 'pursuing', 'push', 'pushed', 'pushing', 'putin', 'putintrump', 'putting', 'pyongyang', 'qaeda', 'qatar', 'quake', 'quarter', 'quebec', 'queen', 'question', 'questioned', 'questioning', 'quick', 'quickly', 'quiet', 'quietly', 'quit', 'quits', 'quitting', 'quo', 'quota', 'quote', 'rabbi', 'race', 'rachel', 'racial', 'racially', 'racism', 'racist', 'radical', 'radio', 'radioactive', 'rage', 'raging', 'raid', 'rail', 'rain', 'rainbow', 'raise', 'raised', 'raising', 'rajoy', 'rakhine', 'rally', 'ramaphosa', 'ramp', 'ran', 'rand', 'range', 'rank', 'rant', 'rap', 'rape', 'raped', 'raping', 'rapist', 'rapper', 'raqqa', 'rare', 'rate', 'rating', 'reach', 'reached', 'reaching', 'react', 'reaction', 'reactor', 'reacts', 'read', 'reader', 'reading', 'ready', 'reaffirms', 'reagan', 'real', 'reality', 'really', 'reason', 'reassure', 'rebel', 'rebellion', 'rebuff', 'rebuild', 'rebuke', 'recall', 'receive', 'received', 'receives', 'receiving', 'recent', 'recess', 'recession', 'recipient', 'reckless', 'recognition', 'recognize', 'recommend', 'recommends', 'reconciliation', 'reconsider', 'record', 'recount', 'recovery', 'recruit', 'recuse', 'recused', 'red', 'reduce', 'reelection', 'referendum', 'refinery', 'reform', 'refuge', 'refugee', 'refusal', 'refuse', 'refused', 'refusing', 'regarding', 'regime', 'region', 'regional', 'register', 'registration', 'regret', 'regulation', 'regulator', 'regulatory', 'reich', 'reid', 'rein', 'reince', 'reiterates', 'reject', 'rejecting', 'rejection', 'related', 'relation', 'relationship', 'relative', 'release', 'released', 'releasing', 'relief', 'religion', 'religious', 'remain', 'remains', 'remark', 'remember', 'remind', 'reminds', 'removal', 'remove', 'removed', 'renegotiate', 'renegotiation', 'renew', 'renewable', 'renewal', 'renewed', 'renews', 'renzi', 'reopen', 'reopens', 'rep', 'repair', 'repatriation', 'repeal', 'repealing', 'repeat', 'repeatedly', 'replace', 'replacement', 'replaces', 'replacing', 'reply', 'report', 'reported', 'reportedly', 'reporter', 'reporting', 'represent', 'representative', 'reprieve', 'republic', 'republican', 'reputation', 'request', 'require', 'requirement', 'requiring', 'rerun', 'rescinds', 'rescue', 'rescued', 'research', 'researcher', 'reserve', 'reset', 'resettlement', 'reshuffle', 'residence', 'resident', 'resign', 'resignation', 'resigning', 'resigns', 'resist', 'resistance', 'resolution', 'resolve', 'resolved', 'resort', 'resource', 'respect', 'respected', 'respond', 'responded', 'responding', 'responds', 'response', 'responsibility', 'responsible', 'rest', 'restart', 'restaurant', 'restore', 'restored', 'restoring', 'restraint', 'restrict', 'restriction', 'restructuring', 'result', 'resume', 'retake', 'retaliate', 'retaliation', 'rethink', 'retire', 'retired', 'retirement', 'retreat', 'return', 'returned', 'returning', 'retweet', 'retweets', 'reuters', 'reutersipsos', 'revamp', 'reveal', 'revealed', 'reveals', 'revelation', 'revenge', 'revenue', 'revers', 'reverse', 'review', 'reviewing', 'revise', 'revised', 'revival', 'revive', 'revives', 'revoke', 'revolt', 'revolting', 'revolution', 'reward', 'rex', 'rhetoric', 'ria', 'ricans', 'rice', 'rich', 'richard', 'rick', 'rico', 'rid', 'ride', 'ridiculous', 'rifle', 'rift', 'rig', 'rigged', 'right', 'rightwing', 'ring', 'rio', 'riot', 'rip', 'ripped', 'rise', 'rising', 'risk', 'ritual', 'rival', 'river', 'riyadh', 'rnc', 'rncs', 'road', 'roast', 'roasted', 'rob', 'robert', 'robertson', 'robot', 'rock', 'rocket', 'rocky', 'roger', 'rogue', 'rohingya', 'role', 'roll', 'rollback', 'rolling', 'romania', 'romanian', 'rome', 'romney', 'ronald', 'roof', 'room', 'rose', 'rosenstein', 'rosie', 'ross', 'rough', 'rouhani', 'round', 'route', 'row', 'rowling', 'roy', 'royal', 'royally', 'rubio', 'rubios', 'rudy', 'ruin', 'ruined', 'rule', 'ruled', 'ruler', 'ruling', 'rumor', 'run', 'running', 'runoff', 'rural', 'rush', 'russia', 'russiabacked', 'russian', 'russiaus', 'rwanda', 'ryan', 'ryans', 's400', 'saakashvili', 'sabotage', 'sachs', 'sack', 'sacked', 'sacrifice', 'sad', 'safe', 'safety', 'sahel', 'said', 'saint', 'salary', 'sale', 'saleh', 'sally', 'salvador', 'samantha', 'samesex', 'san', 'sanaa', 'sanction', 'sanctuary', 'sander', 'sandy', 'santa', 'santorum', 'sarah', 'sarin', 'satellite', 'saturday', 'saudi', 'saudiled', 'savage', 'save', 'saving', 'saw', 'say', 'saying', 'sc', 'scale', 'scalia', 'scalias', 'scalise', 'scam', 'scammed', 'scandal', 'scaramucci', 'scaramuccis', 'scarborough', 'scare', 'scared', 'scary', 'scathing', 'scene', 'schaeuble', 'schedule', 'scheme', 'schiff', 'school', 'schooled', 'schulz', 'schumer', 'schwarzenegger', 'science', 'scientist', 'scold', 'scope', 'scorch', 'score', 'scotland', 'scott', 'scottish', 'scotus', 'scout', 'scramble', 'scrap', 'scream', 'screaming', 'screenshots', 'screw', 'screwed', 'scrutiny', 'sdf', 'sea', 'seal', 'sean', 'search', 'searching', 'season', 'seat', 'seattle', 'sec', 'secession', 'secessionist', 'second', 'secret', 'secretary', 'secretly', 'sector', 'secure', 'security', 'seeing', 'seek', 'seeker', 'seeking', 'seen', 'segment', 'seize', 'seized', 'seizes', 'seizure', 'selfdriving', 'sell', 'selling', 'sen', 'senate', 'senator', 'send', 'sending', 'sends', 'senior', 'sense', 'sent', 'sentence', 'sentenced', 'sentencing', 'seoul', 'separate', 'separatist', 'sept', 'september', 'serb', 'serbia', 'serbian', 'serf', 'series', 'seriously', 'servant', 'serve', 'server', 'service', 'serving', 'session', 'set', 'setback', 'seth', 'setting', 'settle', 'settled', 'settlement', 'seven', 'sex', 'sexism', 'sexist', 'sexual', 'sexually', 'shabaab', 'shade', 'shadow', 'shady', 'shake', 'shakeup', 'shame', 'shamed', 'shameful', 'shaming', 'shape', 'share', 'shared', 'sharif', 'sharing', 'sharp', 'shatters', 'shed', 'sheila', 'shell', 'shelling', 'shelter', 'sheriff', 'shes', 'shield', 'shift', 'shiite', 'ship', 'shipment', 'shipping', 'shirt', 'shkreli', 'shock', 'shocked', 'shocking', 'shockingly', 'shoot', 'shooter', 'shooting', 'shootout', 'shop', 'shore', 'short', 'shortage', 'shortterm', 'shot', 'shouldnt', 'shouting', 'shove', 'showdown', 'showed', 'showing', 'shred', 'shredded', 'shrink', 'shrug', 'sht', 'shut', 'shutdown', 'shuts', 'sicily', 'sick', 'sickening', 'siege', 'sight', 'sign', 'signal', 'significant', 'signing', 'silence', 'silent', 'silicon', 'silver', 'similar', 'simple', 'sinai', 'singapore', 'singer', 'single', 'sink', 'sisi', 'sister', 'sit', 'site', 'sitin', 'situation', 'size', 'skeptic', 'skeptical', 'skewer', 'skewered', 'skin', 'skinny', 'skip', 'skirt', 'skit', 'sky', 'slain', 'slam', 'slammed', 'slamming', 'slap', 'slapped', 'slash', 'slave', 'slavery', 'sleep', 'slide', 'slightly', 'slim', 'slip', 'slogan', 'slovakia', 'slovenia', 'slow', 'slum', 'slur', 'smack', 'smackdown', 'smacked', 'small', 'smart', 'smash', 'smear', 'smith', 'smoke', 'smooth', 'smuggling', 'snag', 'snap', 'snl', 'snls', 'snowflake', 'snub', 'snyder', 'soar', 'soccer', 'sochi', 'social', 'socialist', 'society', 'soften', 'solar', 'sold', 'soldier', 'solid', 'solidarity', 'solution', 'solve', 'somali', 'somalia', 'somebody', 'son', 'song', 'soninlaw', 'soon', 'sore', 'soros', 'sorry', 'sort', 'sought', 'sound', 'sour', 'source', 'south', 'southeast', 'southern', 'southwest', 'sovereignty', 'space', 'spain', 'spanish', 'spar', 'spark', 'spat', 'spd', 'speak', 'speaker', 'speaking', 'speaks', 'special', 'specific', 'spectacular', 'speculation', 'speech', 'speechwriter', 'speed', 'spell', 'spelling', 'spend', 'spending', 'spent', 'spicer', 'spicers', 'spill', 'spin', 'spiral', 'spirit', 'spiritual', 'spit', 'split', 'spoke', 'spokesman', 'spokeswoman', 'sponsor', 'sport', 'spot', 'spotlight', 'spread', 'spreading', 'spring', 'spur', 'spurns', 'spy', 'spying', 'square', 'sri', 'st', 'stab', 'stability', 'stable', 'stadium', 'staff', 'staffer', 'stage', 'stake', 'stall', 'stalled', 'stamp', 'stance', 'stand', 'standard', 'standing', 'standoff', 'star', 'starbucks', 'starring', 'start', 'started', 'starting', 'startling', 'state', 'statehouse', 'statement', 'station', 'statue', 'status', 'stay', 'steal', 'stealing', 'steel', 'stein', 'step', 'stephen', 'stern', 'steve', 'stewart', 'stick', 'sticking', 'stir', 'stock', 'stole', 'stolen', 'stomped', 'stone', 'stooge', 'stop', 'stopgap', 'stopped', 'store', 'storm', 'story', 'straight', 'strange', 'strategic', 'strategist', 'strategy', 'streep', 'street', 'strength', 'strengthen', 'strengthens', 'stress', 'stretch', 'strike', 'striking', 'strip', 'strong', 'stronger', 'stronghold', 'strongly', 'strongman', 'struck', 'struggle', 'struggling', 'student', 'study', 'studying', 'stuff', 'stumble', 'stunned', 'stunning', 'stuns', 'stupid', 'stupidity', 'sturgeon', 'style', 'sub', 'subject', 'submarine', 'submit', 'submits', 'subpoena', 'subpoenaed', 'subsidy', 'substance', 'subversion', 'subway', 'success', 'successful', 'succession', 'successor', 'sudan', 'suddenly', 'sue', 'sued', 'suffer', 'sugar', 'suggest', 'suggestion', 'suggests', 'suicide', 'suing', 'suit', 'sum', 'summer', 'summit', 'summons', 'sunday', 'super', 'supply', 'support', 'supporter', 'supporting', 'suppression', 'supremacist', 'supremacy', 'supreme', 'sure', 'surface', 'surge', 'surgery', 'surprise', 'surrender', 'surrogate', 'surveillance', 'survey', 'survive', 'survives', 'survivor', 'susan', 'suspect', 'suspected', 'suspend', 'suspended', 'suspends', 'suspension', 'suspicion', 'suspicious', 'suu', 'swamp', 'swap', 'sway', 'swears', 'sweden', 'swedish', 'sweep', 'sweeping', 'swift', 'swing', 'swipe', 'swiss', 'switch', 'sworn', 'symbol', 'syria', 'syrian', 'table', 'tackle', 'tackling', 'taco', 'tactic', 'taiwan', 'taiwanese', 'takedown', 'takei', 'taken', 'takeover', 'taking', 'taliban', 'talk', 'talked', 'talking', 'tally', 'tank', 'tanker', 'tantrum', 'tanzania', 'tap', 'tape', 'tapped', 'tapper', 'target', 'targeted', 'targeting', 'tariff', 'task', 'tass', 'tax', 'taxpayer', 'tea', 'teach', 'teacher', 'team', 'tear', 'teargas', 'tech', 'technology', 'ted', 'teen', 'teenage', 'teenager', 'teeth', 'tehran', 'telecom', 'telegraph', 'television', 'tell', 'telling', 'temer', 'temper', 'temporarily', 'temporary', 'tennessee', 'tension', 'term', 'terminal', 'terrible', 'terrified', 'terrify', 'terrifying', 'territory', 'terror', 'terrorism', 'terrorist', 'test', 'tested', 'testify', 'testifying', 'testimony', 'testing', 'texan', 'texas', 'text', 'textbook', 'thaad', 'thai', 'thailand', 'thank', 'thanking', 'thanks', 'thanksgiving', 'thats', 'theft', 'theory', 'theresa', 'theyll', 'theyre', 'thing', 'think', 'thinking', 'thirdparty', 'thomas', 'thought', 'thousand', 'threat', 'threaten', 'threatened', 'threatening', 'threatens', 'threeway', 'threw', 'thrilled', 'throat', 'throw', 'throwing', 'thrown', 'thug', 'thursday', 'thwart', 'ticket', 'tie', 'tied', 'tight', 'tighten', 'tightens', 'tighter', 'tillerson', 'tillersons', 'tim', 'time', 'timeline', 'timing', 'tip', 'tirade', 'toast', 'today', 'todd', 'toddler', 'togo', 'tokyo', 'told', 'tolerance', 'toll', 'tom', 'tomi', 'tone', 'tonight', 'took', 'tool', 'torch', 'torched', 'tore', 'torn', 'torture', 'toss', 'total', 'totally', 'touch', 'tough', 'tougher', 'tour', 'tourism', 'tourist', 'tout', 'tower', 'town', 'toxic', 'tpp', 'track', 'trade', 'trader', 'trading', 'tradition', 'traffic', 'trafficking', 'tragedy', 'trail', 'train', 'training', 'traitor', 'trans', 'transcanada', 'transcript', 'transfer', 'transgender', 'transition', 'transparency', 'transport', 'transportation', 'trap', 'trapped', 'trash', 'trashed', 'trashing', 'travel', 'traveler', 'treason', 'treasury', 'treat', 'treated', 'treatment', 'treaty', 'tree', 'trend', 'trevor', 'trey', 'trial', 'tribal', 'tribe', 'tribunal', 'tribute', 'trick', 'tricky', 'tried', 'trigger', 'triggered', 'trillion', 'trip', 'troll', 'trolled', 'trolling', 'troop', 'trouble', 'troubled', 'troubling', 'truce', 'truck', 'trudeau', 'true', 'truly', 'trump', 'trumpbacked', 'trumpcare', 'trumploving', 'trumpputin', 'trumprussia', 'trumpsupporting', 'trust', 'truth', 'try', 'trying', 'tshirts', 'tucker', 'tuesday', 'tumble', 'tune', 'tunisia', 'tunisian', 'tunnel', 'turk', 'turkey', 'turkish', 'turmoil', 'turn', 'turnbull', 'turned', 'turning', 'turnout', 'tusk', 'tv', 'tweak', 'tweet', 'tweeted', 'tweeting', 'tweetstorm', 'tweetsvideo', 'twice', 'twist', 'twitter', 'twostate', 'twothirds', 'twoyear', 'tycoon', 'typhoon', 'tyson', 'uae', 'uber', 'ucla', 'uganda', 'ugandan', 'ugly', 'uk', 'ukraine', 'ukrainian', 'ultimate', 'unacceptable', 'unamerican', 'unanimously', 'unarmed', 'unbelievable', 'unbelievably', 'uncertain', 'uncertainty', 'unchanged', 'uncle', 'unclear', 'uncomfortable', 'unconstitutional', 'uncovered', 'undecided', 'undercover', 'undergoes', 'undermine', 'undermining', 'understand', 'understands', 'undisclosed', 'undo', 'undocumented', 'unease', 'unesco', 'unfair', 'unfit', 'unhcr', 'unhinged', 'unilateral', 'uninsured', 'union', 'unit', 'unite', 'united', 'unity', 'university', 'unknown', 'unleashes', 'unless', 'unlikely', 'unlock', 'unpaid', 'unpopular', 'unprecedented', 'unqualified', 'unrest', 'unusual', 'unveil', 'unveils', 'upbeat', 'upcoming', 'update', 'upgrade', 'uphill', 'uphold', 'upholds', 'uproar', 'upset', 'uranium', 'urge', 'urged', 'urgent', 'usa', 'usbacked', 'uschina', 'usda', 'use', 'used', 'user', 'usgs', 'using', 'usled', 'usmexico', 'usrussia', 'ustr', 'usual', 'utah', 'utility', 'utterly', 'uzbek', 'va', 'vacancy', 'vacation', 'vaccine', 'valley', 'value', 'van', 'vatican', 'vega', 'vehicle', 'venezuela', 'venezuelan', 'verdict', 'verge', 'version', 'vet', 'veteran', 'veto', 'vetting', 'vice', 'vicious', 'viciously', 'victim', 'victory', 'video', 'videotweets', 'vietnam', 'vietnamese', 'view', 'viewer', 'vile', 'village', 'villain', 'violated', 'violates', 'violating', 'violation', 'violence', 'violent', 'violently', 'viral', 'virgin', 'virginia', 'virus', 'visa', 'vision', 'visit', 'visited', 'visiting', 'visitor', 'vital', 'voice', 'volcanic', 'volcano', 'volunteer', 'vote', 'voted', 'voter', 'voting', 'vow', 'vp', 'vulgar', 'wade', 'wage', 'wait', 'waiting', 'waiver', 'wake', 'walk', 'walker', 'wall', 'wallace', 'walmart', 'want', 'wanted', 'wanting', 'wapo', 'war', 'warm', 'warming', 'warms', 'warn', 'warned', 'warner', 'warning', 'warns', 'warrant', 'warren', 'warrior', 'warship', 'wary', 'washington', 'wasnt', 'wassermanschultz', 'waste', 'watch', 'watchdog', 'watching', 'water', 'waterboarding', 'watergate', 'wave', 'way', 'weah', 'weak', 'weaken', 'wealth', 'wealthy', 'weapon', 'wear', 'wearing', 'weather', 'website', 'wedding', 'wednesday', 'week', 'weekend', 'weigh', 'weighing', 'weighs', 'weight', 'weiner', 'weinstein', 'weinsteins', 'weird', 'welcome', 'welfare', 'went', 'west', 'western', 'weve', 'wh', 'whats', 'whine', 'whining', 'whiny', 'whip', 'whistleblower', 'white', 'whoa', 'whoop', 'whoopi', 'widens', 'wider', 'widow', 'wife', 'wikileaks', 'wilbur', 'wild', 'wildlife', 'williams', 'willing', 'win', 'wind', 'window', 'wing', 'winner', 'winning', 'winter', 'wipe', 'wire', 'wiretap', 'wiretapped', 'wiretapping', 'wisconsin', 'wish', 'witch', 'withdraw', 'withdrawal', 'withdrawn', 'withdraws', 'witness', 'wolf', 'woman', 'womens', 'wonderful', 'wont', 'woo', 'woodshed', 'word', 'work', 'worked', 'worker', 'working', 'world', 'worldwide', 'worried', 'worry', 'worse', 'worsens', 'worst', 'worth', 'wouldnt', 'wound', 'wounded', 'wow', 'wreck', 'wrecked', 'writer', 'writes', 'writing', 'written', 'wrong', 'wrongdoing', 'wrote', 'wsj', 'wto', 'ww2', 'wyoming', 'xi', 'xinhua', 'xl', 'yahoo', 'yank', 'yates', 'year', 'yearend', 'yellen', 'yemen', 'yemeni', 'yes', 'yingluck', 'yonhap', 'york', 'yorkers', 'youll', 'young', 'youre', 'youth', 'ypg', 'zarif', 'zarrab', 'zealand', 'zero', 'zika', 'zimbabwe', 'zimbabwean', 'zone', 'zoo', 'zuckerberg', 'zuma', '10', '100', '1000', '10000', '100000', '11', '12', '120', '13', '14', '15', '150', '16', '17', '18', '19', '1967', '1970s', '1980s', '1990s', '1991', '1992', '1993', '1994', '1995', '1997', '1998', '1999', '20', '200', '2000', '20000', '200000', '2001', '2002', '2003', '2004', '2005', '2006', '2007', '2008', '2009', '2010', '2011', '2012', '2013', '2014', '2015', '2016', '2016featured', '2016realdonaldtrump', '2016the', '2017', '2017featured', '2017realdonaldtrump', '2017the', '2017trump', '2018', '2019', '2020', '2025', '21', '22', '23', '24', '25', '250', '26', '27', '28', '29', '30', '300', '3000', '30000', '31', '32', '33', '34', '35', '36', '37', '38', '39', '40', '400', '4000', '41', '42', '43', '44', '45', '46', '47', '48', '49', '50', '500', '5000', '50000', '500000', '51', '52', '53', '54', '55', '56', '57', '58', '5star', '60', '600', '61', '62', '63', '64', '65', '66', '68', '69', '70', '72', '75', '80', '800', '85', '90', '911', '9th', 'abadi', 'abandon', 'abandoned', 'abbas', 'abc', 'abdullah', 'abe', 'ability', 'able', 'aboard', 'abortion', 'abroad', 'absence', 'absolute', 'absolutely', 'absurd', 'abu', 'abuse', 'aca', 'academic', 'academy', 'accept', 'acceptable', 'accepted', 'accepting', 'access', 'accident', 'accompanied', 'accomplishment', 'accord', 'according', 'account', 'accountability', 'accountable', 'accuracy', 'accurate', 'accusation', 'accuse', 'accused', 'accuser', 'accuses', 'accusing', 'achieve', 'achieved', 'achievement', 'acknowledge', 'acknowledged', 'aclu', 'acosta', 'acquisition', 'act', 'acted', 'acting', 'action', 'active', 'actively', 'activist', 'activity', 'actor', 'actress', 'actual', 'actually', 'ad', 'adam', 'add', 'added', 'adding', 'addition', 'additional', 'address', 'addressed', 'addressing', 'adjustment', 'administration', 'administrative', 'administrator', 'admiral', 'admission', 'admit', 'admitted', 'admitting', 'adopt', 'adopted', 'adult', 'advance', 'advanced', 'advancing', 'advantage', 'adversary', 'advertising', 'advice', 'advised', 'adviser', 'advisor', 'advisory', 'advocacy', 'advocate', 'afd', 'affair', 'affect', 'affected', 'affecting', 'affiliate', 'affiliated', 'afford', 'affordable', 'afghan', 'afghanistan', 'afraid', 'africa', 'african', 'africanamerican', 'africanamericans', 'aftermath', 'afternoon', 'ag', 'age', 'agency', 'agenda', 'agent', 'aggression', 'aggressive', 'aggressively', 'ago', 'agree', 'agreed', 'agreeing', 'agreement', 'agricultural', 'agriculture', 'ahead', 'ahmed', 'aid', 'aide', 'ailes', 'aim', 'aimed', 'aiming', 'air', 'aircraft', 'aired', 'airline', 'airport', 'al', 'alabama', 'alarm', 'alarmed', 'alaska', 'alassad', 'aleppo', 'alert', 'alex', 'alexander', 'alhariri', 'ali', 'aligned', 'alive', 'allegation', 'alleged', 'allegedly', 'allegiance', 'alliance', 'allied', 'allow', 'allowed', 'allowing', 'allows', 'ally', 'alongside', 'alternative', 'altright', 'alzor', 'amazing', 'amazon', 'ambassador', 'ambition', 'ambitious', 'amendment', 'america', 'american', 'amid', 'ammunition', 'amnesty', 'analysis', 'analyst', 'anc', 'anchor', 'anderson', 'andrew', 'angela', 'angeles', 'anger', 'angered', 'angerergetty', 'angry', 'animal', 'ankara', 'ann', 'annexation', 'anniversary', 'announce', 'announced', 'announcement', 'announcing', 'annual', 'annually', 'anonymity', 'anonymous', 'answer', 'answered', 'anthem', 'anthony', 'anticorruption', 'antiimmigrant', 'antisemitic', 'antisemitism', 'antitrump', 'antonin', 'antonio', 'anxiety', 'anybody', 'anymore', 'aoun', 'apart', 'apartment', 'apologize', 'apologized', 'apology', 'apparent', 'apparently', 'appeal', 'appealed', 'appear', 'appearance', 'appeared', 'appearing', 'appears', 'applause', 'apple', 'applicant', 'application', 'applied', 'apply', 'appoint', 'appointed', 'appointee', 'appointment', 'appreciate', 'apprentice', 'approach', 'approached', 'appropriate', 'appropriation', 'approval', 'approve', 'approved', 'approximately', 'april', 'arab', 'arabia', 'area', 'arena', 'arent', 'argentina', 'argue', 'argued', 'arguing', 'argument', 'arizona', 'arkansas', 'arm', 'armed', 'army', 'arpaio', 'arrangement', 'arrest', 'arrested', 'arrival', 'arrive', 'arrived', 'arriving', 'arsenal', 'art', 'article', 'artist', 'ash', 'ashamed', 'asia', 'asian', 'asiapacific', 'aside', 'ask', 'asked', 'asking', 'asks', 'aspect', 'assad', 'assange', 'assassination', 'assault', 'assaulted', 'assaulting', 'assembly', 'assertion', 'assess', 'assessment', 'asset', 'assist', 'assistance', 'assistant', 'associate', 'associated', 'association', 'assume', 'assumed', 'assurance', 'assured', 'asylum', 'atlanta', 'atlantic', 'atmosphere', 'atomic', 'atrocity', 'attack', 'attacked', 'attacker', 'attacking', 'attempt', 'attempted', 'attempting', 'attend', 'attendance', 'attended', 'attendee', 'attending', 'attention', 'attitude', 'attorney', 'attract', 'attracted', 'audience', 'audio', 'audit', 'aug', 'august', 'aung', 'australia', 'australian', 'austria', 'author', 'authoritarian', 'authority', 'authorization', 'authorized', 'auto', 'automaker', 'automatically', 'autonomous', 'autonomy', 'available', 'avenue', 'average', 'aviation', 'avoid', 'avoided', 'avoiding', 'awaiting', 'award', 'awarded', 'aware', 'away', 'awful', 'awkward', 'babis', 'baby', 'backed', 'backer', 'background', 'backing', 'backlash', 'bad', 'badly', 'bag', 'baghdad', 'bahrain', 'bail', 'baker', 'balance', 'balanced', 'baldwin', 'ball', 'ballistic', 'ballot', 'ban', 'band', 'bangkok', 'bangladesh', 'bank', 'banker', 'banking', 'bankruptcy', 'banned', 'banner', 'banning', 'bannon', 'bar', 'barack', 'barcelona', 'barely', 'barnier', 'barred', 'barrel', 'barrier', 'barring', 'barzani', 'base', 'baseball', 'based', 'bashar', 'basic', 'basically', 'basis', 'bathroom', 'battle', 'battleground', 'battling', 'bay', 'bbc', 'beach', 'bear', 'beat', 'beating', 'beautiful', 'beck', 'bed', 'began', 'begin', 'beginning', 'begun', 'behalf', 'behavior', 'beijing', 'beirut', 'belgium', 'belief', 'believe', 'believed', 'belong', 'belonging', 'belowfeatured', 'belt', 'ben', 'bench', 'benefit', 'benghazi', 'benjamin', 'berlin', 'bernie', 'best', 'bet', 'better', 'bias', 'biased', 'bible', 'bid', 'biden', 'big', 'bigger', 'biggest', 'bigot', 'bigoted', 'bigotry', 'bilateral', 'billion', 'billionaire', 'bin', 'bipartisan', 'birth', 'birthday', 'bit', 'bitter', 'bizarre', 'black', 'blame', 'blamed', 'blaming', 'blast', 'blasted', 'blatant', 'blind', 'bloc', 'block', 'blockade', 'blocked', 'blocking', 'blog', 'blood', 'bloody', 'bloomberg', 'blow', 'blue', 'blunt', 'board', 'boat', 'bob', 'body', 'boehner', 'boeing', 'bolster', 'bomb', 'bomber', 'bombing', 'bond', 'book', 'boost', 'boosting', 'border', 'boris', 'born', 'bos', 'boston', 'bought', 'bound', 'box', 'boy', 'boycott', 'brady', 'bragged', 'bragging', 'brain', 'branch', 'brand', 'brave', 'brazil', 'brazilian', 'breach', 'break', 'breaking', 'breakthrough', 'breitbart', 'brennan', 'brexit', 'brian', 'bribe', 'bribery', 'bridge', 'brief', 'briefed', 'briefing', 'briefly', 'brilliant', 'bring', 'bringing', 'brings', 'britain', 'british', 'broad', 'broadcast', 'broadcaster', 'broader', 'broadly', 'broke', 'broken', 'broker', 'brother', 'brought', 'brown', 'bruce', 'brussels', 'brutal', 'buddhist', 'budget', 'build', 'building', 'built', 'bullet', 'bullshit', 'bully', 'bullying', 'bunch', 'bundy', 'burden', 'bureau', 'burn', 'burned', 'burning', 'burr', 'bus', 'bush', 'business', 'businessman', 'businessmen', 'busy', 'buy', 'buyer', 'buying', 'buzzfeed', 'cabinet', 'cable', 'cairo', 'cake', 'california', 'called', 'calling', 'calm', 'cambodia', 'came', 'camera', 'camp', 'campaign', 'campaigned', 'campaigner', 'campaigning', 'campus', 'canada', 'canadian', 'cancel', 'canceled', 'cancer', 'candidacy', 'candidate', 'cap', 'capability', 'capable', 'capacity', 'capital', 'capitol', 'captain', 'capture', 'captured', 'car', 'carbon', 'card', 'care', 'career', 'careful', 'carefully', 'caribbean', 'carl', 'carles', 'carlos', 'carlson', 'carolina', 'carried', 'carrier', 'carry', 'carrying', 'carson', 'carter', 'case', 'cash', 'casino', 'cast', 'casting', 'castro', 'casualty', 'catalan', 'catalonia', 'catch', 'category', 'catholic', 'caucus', 'caught', 'cause', 'caused', 'causing', 'cautious', 'cbo', 'cbs', 'cdata', 'cdc', 'cdu', 'ceasefire', 'ceiling', 'celebrate', 'celebrating', 'celebration', 'celebrity', 'cell', 'cent', 'center', 'centerleft', 'centerright', 'central', 'centre', 'centrist', 'century', 'ceo', 'ceremony', 'certain', 'certainly', 'certificate', 'certify', 'cfpb', 'chad', 'chaffetz', 'chain', 'chair', 'chairman', 'challenge', 'challenged', 'challenger', 'challenging', 'chamber', 'champion', 'chance', 'chancellor', 'change', 'changed', 'changing', 'channel', 'chaos', 'chapter', 'character', 'charge', 'charged', 'charitable', 'charity', 'charles', 'charlie', 'charlotte', 'charlottesville', 'charter', 'cheap', 'check', 'cheer', 'cheered', 'cheering', 'chemical', 'chicago', 'chief', 'child', 'childhood', 'chile', 'china', 'chinese', 'chip', 'choice', 'choose', 'choosing', 'chose', 'chosen', 'chris', 'christian', 'christie', 'christmas', 'christopher', 'chuck', 'church', 'cia', 'circle', 'circuit', 'circumstance', 'cited', 'citing', 'citizen', 'citizenship', 'city', 'civil', 'civilian', 'claim', 'claimed', 'claiming', 'clapper', 'clarify', 'clarity', 'clash', 'clashed', 'class', 'classified', 'clause', 'clean', 'cleansing', 'clear', 'clearance', 'cleared', 'clearly', 'cleric', 'cleveland', 'click', 'client', 'climate', 'clinic', 'clinton', 'clip', 'close', 'closed', 'closely', 'closer', 'closest', 'closing', 'closure', 'clothes', 'clothing', 'cloud', 'club', 'cnbc', 'cnn', 'coal', 'coalition', 'coast', 'coastal', 'code', 'cofounder', 'cohen', 'cohn', 'colbert', 'cold', 'collapse', 'collapsed', 'colleague', 'collect', 'collected', 'collection', 'collective', 'college', 'collins', 'colluded', 'collusion', 'colombia', 'colonel', 'color', 'colorado', 'columbia', 'combat', 'combination', 'combined', 'come', 'comedian', 'comedy', 'comey', 'comeys', 'comfortable', 'coming', 'command', 'commander', 'commanderinchief', 'comment', 'commentator', 'commerce', 'commercial', 'commission', 'commissioner', 'commit', 'commitment', 'committed', 'committee', 'committing', 'common', 'communication', 'communist', 'community', 'company', 'compare', 'compared', 'comparison', 'compensation', 'compete', 'competing', 'competition', 'competitive', 'complain', 'complained', 'complaining', 'complaint', 'complete', 'completed', 'completely', 'complex', 'compliance', 'complicated', 'comply', 'complying', 'compound', 'comprehensive', 'compromise', 'compromised', 'computer', 'concept', 'concern', 'concerned', 'concerning', 'concert', 'concession', 'concluded', 'conclusion', 'concrete', 'condemn', 'condemnation', 'condemned', 'condemning', 'condition', 'conduct', 'conducted', 'conducting', 'confederate', 'conference', 'confidence', 'confident', 'confirm', 'confirmation', 'confirmed', 'conflict', 'confront', 'confrontation', 'confronted', 'confused', 'confusion', 'congo', 'congress', 'congressional', 'congressman', 'connected', 'connecticut', 'connection', 'conscience', 'consensus', 'consent', 'consequence', 'conservative', 'consider', 'consideration', 'considered', 'considering', 'considers', 'consistent', 'consistently', 'conspiracy', 'constant', 'constantly', 'constituent', 'constitution', 'constitutional', 'construction', 'constructive', 'consulate', 'consultant', 'consultation', 'consulting', 'consumer', 'contact', 'contacted', 'contain', 'contained', 'contempt', 'contender', 'content', 'contentious', 'contest', 'contested', 'context', 'continue', 'continued', 'continues', 'continuing', 'contract', 'contractor', 'contrary', 'contrast', 'contribute', 'contributed', 'contribution', 'contributor', 'control', 'controlled', 'controversial', 'controversy', 'convention', 'conversation', 'convicted', 'conviction', 'convince', 'convinced', 'convoy', 'conway', 'conyers', 'cook', 'cool', 'cooper', 'cooperate', 'cooperation', 'coordinate', 'coordinated', 'coordination', 'cop', 'copy', 'core', 'corey', 'corker', 'corner', 'cornyn', 'corp', 'corporate', 'corporation', 'correct', 'corrects', 'correspondent', 'corrupt', 'corruption', 'cost', 'costly', 'cotton', 'coulter', 'council', 'counsel', 'count', 'counted', 'counter', 'counterpart', 'counterterrorism', 'counting', 'country', 'county', 'coup', 'couple', 'courage', 'course', 'court', 'courtesy', 'cover', 'coverage', 'covered', 'covering', 'cox', 'crack', 'crackdown', 'crash', 'crazy', 'create', 'created', 'creates', 'creating', 'creation', 'credential', 'credibility', 'credible', 'credit', 'creditor', 'creepy', 'crew', 'crime', 'crimea', 'criminal', 'crisis', 'critic', 'critical', 'criticism', 'criticize', 'criticized', 'criticizing', 'crooked', 'cross', 'crossed', 'crossing', 'crowd', 'crown', 'crucial', 'crude', 'cruise', 'cruz', 'cruzs', 'csu', 'cuba', 'cuban', 'cultural', 'culture', 'cummings', 'cuomo', 'cup', 'curb', 'currency', 'current', 'currently', 'custody', 'custom', 'customer', 'cut', 'cutting', 'cyber', 'cycle', 'czech', 'daca', 'dad', 'daily', 'dakota', 'dallas', 'damage', 'damaged', 'damaging', 'damascus', 'damn', 'dan', 'danger', 'dangerous', 'daniel', 'dare', 'dark', 'data', 'database', 'date', 'dated', 'dating', 'daughter', 'david', 'davis', 'day', 'dc', 'dead', 'deadline', 'deadly', 'deal', 'dealer', 'dealing', 'dealt', 'dean', 'death', 'debate', 'debt', 'dec', 'decade', 'december', 'decide', 'decided', 'decides', 'deciding', 'decision', 'decisive', 'declaration', 'declare', 'declared', 'declaring', 'decline', 'declined', 'declining', 'decree', 'dedicated', 'deduction', 'deemed', 'deep', 'deeper', 'deeply', 'default', 'defeat', 'defeated', 'defence', 'defend', 'defendant', 'defended', 'defender', 'defending', 'defense', 'defensive', 'deferred', 'defiance', 'deficit', 'defined', 'definitely', 'definition', 'degree', 'deir', 'delay', 'delayed', 'delegate', 'delegation', 'deleted', 'delhi', 'deliberately', 'deliver', 'delivered', 'delivering', 'delivery', 'demand', 'demanded', 'demanding', 'democracy', 'democrat', 'democratic', 'demographic', 'demonstrate', 'demonstrated', 'demonstration', 'demonstrator', 'denial', 'denied', 'denies', 'denounce', 'denounced', 'deny', 'denying', 'department', 'departure', 'depend', 'dependent', 'depends', 'deplorable', 'deployed', 'deployment', 'deport', 'deportation', 'deported', 'deputy', 'described', 'describes', 'describing', 'description', 'desert', 'deserve', 'deserves', 'design', 'designated', 'designed', 'desire', 'desk', 'desperate', 'desperately', 'despite', 'destabilizing', 'destroy', 'destroyed', 'destroying', 'destruction', 'detailed', 'detained', 'detainee', 'detention', 'deter', 'determination', 'determine', 'determined', 'detroit', 'devastating', 'develop', 'developed', 'developer', 'developing', 'development', 'device', 'devin', 'devos', 'dhs', 'dialogue', 'dick', 'dictator', 'dictatorship', 'didnt', 'die', 'died', 'difference', 'different', 'difficult', 'difficulty', 'dig', 'digital', 'dignity', 'dinner', 'diplomacy', 'diplomat', 'diplomatic', 'direct', 'directed', 'direction', 'directive', 'directly', 'director', 'dirty', 'disabled', 'disagree', 'disagreement', 'disappointed', 'disaster', 'disastrous', 'discipline', 'disclose', 'disclosed', 'disclosure', 'discovered', 'discredit', 'discriminate', 'discrimination', 'discriminatory', 'discus', 'discussed', 'discussing', 'discussion', 'disease', 'disgrace', 'disgusting', 'dishonest', 'dismantle', 'dismiss', 'dismissal', 'dismissed', 'displaced', 'display', 'dispute', 'disputed', 'disrespect', 'disrupt', 'dissent', 'dissident', 'distance', 'distract', 'district', 'disturbing', 'diverse', 'diversity', 'divide', 'divided', 'division', 'divisive', 'divorce', 'dmitry', 'dnc', 'doctor', 'document', 'doddfrank', 'doesnt', 'dog', 'dogged', 'doj', 'dollar', 'domestic', 'dominated', 'donald', 'donate', 'donated', 'donation', 'donor', 'dont', 'door', 'dossier', 'double', 'doubled', 'doubt', 'doug', 'dozen', 'dr', 'draft', 'dramatic', 'dramatically', 'draw', 'drawing', 'drawn', 'dream', 'dreamer', 'dress', 'dressed', 'drew', 'drill', 'drilling', 'drink', 'drinking', 'drive', 'driven', 'driver', 'driving', 'drone', 'drop', 'dropped', 'dropping', 'drove', 'drug', 'dual', 'dubai', 'dubbed', 'dublin', 'duke', 'dumb', 'dutch', 'duterte', 'duty', 'dying', 'eager', 'ear', 'earlier', 'early', 'earn', 'earned', 'earnest', 'earnings', 'earth', 'earthquake', 'ease', 'easier', 'easily', 'easing', 'east', 'eastern', 'easy', 'eat', 'eating', 'echoed', 'economic', 'economics', 'economist', 'economy', 'ed', 'edge', 'edited', 'editing', 'editor', 'editorial', 'edt', 'educated', 'education', 'edward', 'effect', 'effective', 'effectively', 'effort', 'ego', 'egypt', 'egyptian', 'el', 'elaborate', 'elderly', 'elect', 'elected', 'election', 'electoral', 'electorate', 'electric', 'electricity', 'electronic', 'element', 'eligible', 'eliminate', 'eliminating', 'elite', 'elizabeth', 'email', 'emailed', 'embargo', 'embarrassed', 'embarrassing', 'embarrassment', 'embassy', 'embrace', 'embraced', 'emerge', 'emerged', 'emergency', 'emerging', 'emirate', 'emission', 'emmanuel', 'emotional', 'emphasis', 'emphasized', 'empire', 'employed', 'employee', 'employer', 'employment', 'enable', 'enact', 'enacted', 'enclave', 'encounter', 'encourage', 'encouraged', 'encouraging', 'end', 'ended', 'ending', 'endorse', 'endorsed', 'endorsement', 'endorsing', 'enemy', 'energy', 'enforce', 'enforcement', 'enforcing', 'engage', 'engaged', 'engagement', 'engaging', 'engine', 'engineer', 'england', 'english', 'enjoy', 'enjoyed', 'enormous', 'enrique', 'ensure', 'ensuring', 'enter', 'entered', 'entering', 'enterprise', 'entertainment', 'entire', 'entirely', 'entitled', 'entity', 'entry', 'environment', 'environmental', 'environmentalist', 'envoy', 'epa', 'epidemic', 'episode', 'equal', 'equality', 'equally', 'equipment', 'equity', 'equivalent', 'era', 'erbil', 'erdogan', 'eric', 'error', 'erupted', 'escalating', 'escalation', 'escape', 'especially', 'espionage', 'essential', 'essentially', 'est', 'establish', 'established', 'establishment', 'estate', 'estimate', 'estimated', 'ethic', 'ethnic', 'eu', 'euphrates', 'euro', 'europe', 'european', 'evacuation', 'evangelical', 'eve', 'evening', 'event', 'eventual', 'eventually', 'everybody', 'evidence', 'evil', 'exact', 'exactly', 'examine', 'example', 'exception', 'excessive', 'exchange', 'excuse', 'executed', 'execution', 'executive', 'exemption', 'exercise', 'exile', 'exist', 'existence', 'existing', 'exists', 'exit', 'exodus', 'expand', 'expanded', 'expanding', 'expansion', 'expect', 'expectation', 'expected', 'expecting', 'expects', 'expense', 'expensive', 'experience', 'experienced', 'expert', 'expire', 'explain', 'explained', 'explaining', 'explains', 'explanation', 'explicitly', 'exploit', 'explosion', 'explosive', 'export', 'expose', 'exposed', 'express', 'expressed', 'expressing', 'expression', 'extend', 'extended', 'extension', 'extensive', 'extent', 'external', 'extra', 'extraordinary', 'extreme', 'extremely', 'extremism', 'extremist', 'exxon', 'eye', 'face', 'facebook', 'faced', 'facility', 'facing', 'fact', 'faction', 'facto', 'factor', 'factory', 'fail', 'failed', 'failing', 'fails', 'failure', 'fair', 'fairly', 'faith', 'fake', 'fall', 'fallen', 'falling', 'fallon', 'fallout', 'false', 'familiar', 'family', 'famous', 'fan', 'far', 'farc', 'farm', 'farmer', 'farright', 'fascist', 'fashion', 'fast', 'faster', 'fate', 'father', 'fault', 'favor', 'favorable', 'favored', 'favorite', 'fbi', 'fcc', 'fck', 'fdp', 'fear', 'feared', 'feature', 'featured', 'feb', 'february', 'fed', 'federal', 'federation', 'fee', 'feed', 'feel', 'feeling', 'feinstein', 'fell', 'fellow', 'felony', 'felt', 'female', 'fence', 'ferguson', 'fernandez', 'festival', 'feud', 'fewer', 'field', 'fierce', 'fifth', 'fight', 'fighter', 'fighting', 'figure', 'file', 'filed', 'filibuster', 'filing', 'filled', 'film', 'final', 'finally', 'finance', 'financial', 'financing', 'finding', 'fine', 'finger', 'finish', 'finished', 'fiorina', 'firearm', 'fired', 'firing', 'firm', 'firmly', 'fiscal', 'fit', 'fiveyear', 'fix', 'fixed', 'flag', 'flake', 'flat', 'fled', 'flee', 'fleeing', 'fleet', 'flew', 'flickr', 'flight', 'flint', 'flood', 'flooding', 'floor', 'florida', 'flow', 'fly', 'flying', 'flynn', 'flynns', 'focus', 'focused', 'focusing', 'foe', 'folk', 'follow', 'followed', 'follower', 'following', 'follows', 'food', 'fool', 'foot', 'footage', 'football', 'force', 'forced', 'forcing', 'ford', 'forecast', 'foreign', 'foreigner', 'forever', 'forget', 'form', 'formal', 'formally', 'formed', 'forming', 'forth', 'fortune', 'forum', 'forward', 'fossil', 'foster', 'fought', 'foundation', 'founded', 'founder', 'founding', 'fourth', 'fox', 'foxnews', 'fpo', 'fragile', 'framework', 'france', 'francis', 'francisco', 'frank', 'franken', 'frankly', 'fraud', 'free', 'freed', 'freedom', 'freeze', 'french', 'frequent', 'frequently', 'fresh', 'friday', 'friend', 'friendly', 'friendship', 'frontier', 'frontrunner', 'frustrated', 'frustration', 'fuck', 'fuel', 'fueled', 'fulfill', 'fully', 'fun', 'function', 'fund', 'fundamental', 'funded', 'funding', 'fundraiser', 'fundraising', 'funeral', 'funny', 'furious', 'fusion', 'future', 'gabriel', 'gain', 'gained', 'gaining', 'game', 'gang', 'gap', 'garland', 'gary', 'gas', 'gasoline', 'gate', 'gather', 'gathered', 'gathering', 'gave', 'gay', 'gaza', 'gdp', 'gender', 'general', 'generally', 'generate', 'generation', 'geneva', 'genocide', 'george', 'georgia', 'german', 'germany', 'gesture', 'getting', 'getty', 'giant', 'gift', 'gingrich', 'girl', 'giuliani', 'given', 'giving', 'glass', 'global', 'globe', 'gmt', 'goal', 'god', 'going', 'gold', 'golden', 'goldman', 'golf', 'gone', 'gonna', 'good', 'google', 'gop', 'gorsuch', 'got', 'gotten', 'gov', 'govern', 'governance', 'governing', 'government', 'governor', 'grab', 'grabbed', 'grace', 'graduate', 'graft', 'graham', 'grand', 'grant', 'granted', 'graphic', 'grassley', 'grassroots', 'grave', 'great', 'greater', 'greatest', 'greatly', 'greece', 'greek', 'green', 'greenhouse', 'greeted', 'greg', 'grew', 'grip', 'groping', 'gross', 'ground', 'group', 'grow', 'growing', 'grown', 'growth', 'guarantee', 'guaranteed', 'guard', 'guardian', 'guatemala', 'guerrilla', 'guess', 'guest', 'guidance', 'guideline', 'guilty', 'guinea', 'gulen', 'gulf', 'gun', 'gunman', 'gut', 'guterres', 'guy', 'hack', 'hacked', 'hacker', 'hacking', 'hailed', 'hair', 'haley', 'half', 'hall', 'halt', 'halted', 'hamas', 'hampshire', 'hand', 'handed', 'handful', 'handing', 'handle', 'handled', 'handling', 'hannity', 'happen', 'happened', 'happening', 'happens', 'happy', 'harare', 'harassment', 'hard', 'harder', 'hardline', 'hardly', 'hariri', 'harm', 'harris', 'harry', 'harsh', 'harvard', 'harvey', 'hashtag', 'hassan', 'hat', 'hatch', 'hate', 'hateful', 'hatred', 'havana', 'hawaii', 'head', 'headed', 'heading', 'headline', 'headquarters', 'health', 'healthcare', 'healthy', 'hear', 'heard', 'hearing', 'heart', 'heat', 'heated', 'heather', 'heavily', 'heavy', 'hedge', 'height', 'held', 'helicopter', 'hell', 'help', 'helped', 'helping', 'heritage', 'hernandez', 'hero', 'hey', 'hezbollah', 'hide', 'hiding', 'high', 'higher', 'highest', 'highlevel', 'highlight', 'highlighted', 'highly', 'highprofile', 'highway', 'hike', 'hilarious', 'hill', 'hillary', 'hindu', 'hire', 'hired', 'hiring', 'hispanic', 'historic', 'historical', 'historically', 'history', 'hit', 'hitler', 'hitting', 'hoax', 'hold', 'holder', 'holding', 'hole', 'holiday', 'hollywood', 'holocaust', 'holy', 'home', 'homeland', 'homeless', 'honduras', 'honest', 'honestly', 'hong', 'honor', 'hope', 'hoped', 'hopeful', 'hopefully', 'hoping', 'horrible', 'horrific', 'horror', 'hospital', 'host', 'hostage', 'hosted', 'hostile', 'hostility', 'hosting', 'hot', 'hotel', 'hour', 'house', 'household', 'housing', 'houston', 'houthi', 'houthis', 'howard', 'hub', 'huckabee', 'huge', 'human', 'humanitarian', 'humanity', 'hun', 'hungary', 'hunt', 'hurdle', 'hurricane', 'hurt', 'hurting', 'husband', 'hussein', 'hypocrisy', 'hypocrite', 'ice', 'id', 'idea', 'ideal', 'identification', 'identified', 'identify', 'identity', 'ideological', 'ideology', 'idiot', 'idlib', 'ignorance', 'ignorant', 'ignore', 'ignored', 'ignoring', 'ii', 'ill', 'illegal', 'illegally', 'illinois', 'illness', 'im', 'image', 'imagine', 'immediate', 'immediately', 'immigrant', 'immigration', 'immunity', 'impact', 'impeach', 'impeached', 'impeachment', 'implement', 'implementation', 'implemented', 'implementing', 'implication', 'import', 'importance', 'important', 'impose', 'imposed', 'imposing', 'impossible', 'impression', 'improve', 'improved', 'improvement', 'improving', 'inappropriate', 'inaugural', 'inauguration', 'incentive', 'incident', 'include', 'included', 'includes', 'including', 'income', 'incoming', 'increase', 'increased', 'increasing', 'increasingly', 'incredible', 'incredibly', 'incumbent', 'independence', 'independent', 'independently', 'index', 'india', 'indian', 'indiana', 'indicate', 'indicated', 'indication', 'indicted', 'indictment', 'individual', 'indonesia', 'indonesian', 'industrial', 'industry', 'inequality', 'infamous', 'infection', 'inflation', 'influence', 'influential', 'info', 'inform', 'information', 'informed', 'infrastructure', 'initial', 'initially', 'initiative', 'injured', 'injury', 'inmate', 'inner', 'innocent', 'innovation', 'inquiry', 'insane', 'inside', 'insider', 'insist', 'insisted', 'insisting', 'insists', 'inspection', 'inspector', 'inspired', 'instagram', 'instance', 'instead', 'institute', 'institution', 'instruction', 'insult', 'insulted', 'insulting', 'insurance', 'insurer', 'insurgency', 'insurgent', 'integration', 'integrity', 'intel', 'intellectual', 'intelligence', 'intend', 'intended', 'intends', 'intense', 'intent', 'intention', 'intentionally', 'intercontinental', 'interested', 'interesting', 'interfere', 'interfered', 'interference', 'interfering', 'interim', 'interior', 'internal', 'international', 'internationally', 'internet', 'interpretation', 'interrogation', 'intervention', 'interview', 'interviewed', 'intimidation', 'introduce', 'introduced', 'invasion', 'invest', 'investigate', 'investigated', 'investigating', 'investigation', 'investigative', 'investigator', 'investing', 'investment', 'investor', 'invitation', 'invite', 'invited', 'involve', 'involved', 'involvement', 'involves', 'involving', 'iowa', 'iran', 'iranian', 'iraq', 'iraqi', 'ireland', 'irish', 'irma', 'iron', 'irresponsible', 'irs', 'isi', 'islam', 'islamabad', 'islamic', 'islamist', 'island', 'isnt', 'isolated', 'israel', 'israeli', 'issue', 'issued', 'issuing', 'istanbul', 'italian', 'italy', 'ite', 'item', 'itfeatured', 'ivanka', 'ive', 'jack', 'jackson', 'jacob', 'jail', 'jailed', 'jakarta', 'jake', 'james', 'jan', 'january', 'japan', 'japanese', 'jared', 'jason', 'jay', 'jeb', 'jeff', 'jerry', 'jersey', 'jerusalem', 'jesus', 'jet', 'jew', 'jewish', 'jihadist', 'jill', 'jim', 'jimmy', 'jinping', 'job', 'joe', 'john', 'johnson', 'join', 'joined', 'joining', 'joint', 'joke', 'jon', 'jonathan', 'jones', 'jong', 'jordan', 'jose', 'joseph', 'josh', 'journal', 'journalism', 'journalist', 'journey', 'joy', 'jr', 'juan', 'judge', 'judgment', 'judicial', 'judiciary', 'july', 'jump', 'jumped', 'juncker', 'june', 'junior', 'jurisdiction', 'jury', 'justice', 'justify', 'justin', 'kabul', 'kaine', 'kansa', 'kasich', 'keen', 'keeping', 'kelly', 'kellyanne', 'kem', 'ken', 'kennedy', 'kentucky', 'kenya', 'kenyatta', 'kept', 'kerry', 'kevin', 'key', 'khan', 'kick', 'kicked', 'kid', 'kiev', 'kill', 'killed', 'killer', 'killing', 'kim', 'kind', 'king', 'kingdom', 'kirkuk', 'kislyak', 'kiss', 'kkk', 'klan', 'klux', 'km', 'knew', 'knife', 'know', 'knowing', 'knowledge', 'known', 'koch', 'koike', 'kong', 'korea', 'korean', 'kosovo', 'kremlin', 'krg', 'ku', 'kuczynski', 'kurd', 'kurdish', 'kurdistan', 'kurz', 'kushner', 'kuwait', 'kyi', 'la', 'label', 'labor', 'labour', 'lack', 'lady', 'laid', 'lake', 'land', 'landmark', 'landslide', 'lane', 'language', 'large', 'largely', 'larger', 'largest', 'larry', 'lashed', 'late', 'later', 'latest', 'latin', 'latino', 'laugh', 'laughing', 'launch', 'launched', 'launching', 'laundering', 'lavrov', 'law', 'lawmaker', 'lawsuit', 'lawyer', 'lay', 'le', 'lead', 'leader', 'leadership', 'leading', 'leaf', 'league', 'leak', 'leaked', 'leaking', 'leaning', 'learn', 'learned', 'learning', 'lease', 'leave', 'leaving', 'lebanese', 'lebanon', 'led', 'lee', 'left', 'leftist', 'leftwing', 'leg', 'legacy', 'legal', 'legally', 'legislation', 'legislative', 'legislator', 'legislature', 'legitimacy', 'legitimate', 'lender', 'length', 'lengthy', 'lepage', 'lesbian', 'lesson', 'let', 'letter', 'letting', 'level', 'leverage', 'lewandowski', 'lewis', 'lgbt', 'lgbtq', 'li', 'liability', 'liar', 'liberal', 'liberation', 'libertarian', 'liberty', 'libya', 'libyan', 'license', 'lie', 'lied', 'lieutenant', 'life', 'lifetime', 'lift', 'lifted', 'lifting', 'light', 'like', 'liked', 'likely', 'limit', 'limited', 'limiting', 'lincoln', 'lindsey', 'line', 'link', 'linked', 'lisa', 'list', 'listed', 'listen', 'listening', 'literally', 'litigation', 'little', 'live', 'lived', 'living', 'loan', 'lobby', 'lobbying', 'lobbyist', 'local', 'located', 'location', 'lock', 'locked', 'lockheed', 'london', 'lone', 'long', 'longer', 'longest', 'longstanding', 'longterm', 'longtime', 'look', 'looked', 'looking', 'loophole', 'loose', 'lopez', 'lord', 'los', 'lose', 'loser', 'loses', 'losing', 'loss', 'lost', 'lot', 'loud', 'louis', 'louisiana', 'love', 'loved', 'low', 'lower', 'lowest', 'lowincome', 'loyal', 'loyalty', 'luis', 'lunch', 'luther', 'luxury', 'lying', 'lynch', 'machine', 'macri', 'macron', 'mad', 'maddow', 'madrid', 'maduro', 'magazine', 'magistrate', 'maher', 'mail', 'main', 'maine', 'mainland', 'mainly', 'mainstream', 'maintain', 'maintained', 'maintaining', 'major', 'majority', 'make', 'maker', 'making', 'malaysia', 'malaysian', 'male', 'mali', 'man', 'manafort', 'manage', 'managed', 'management', 'manager', 'managing', 'mandate', 'mandatory', 'manhattan', 'manila', 'manner', 'manufacturer', 'manufacturing', 'map', 'maralago', 'marawi', 'marc', 'march', 'marco', 'margin', 'maria', 'marijuana', 'marine', 'maritime', 'mark', 'marked', 'market', 'marriage', 'married', 'martin', 'mary', 'maryland', 'mass', 'massachusetts', 'massacre', 'massive', 'master', 'match', 'mate', 'mateen', 'material', 'matt', 'matter', 'matthew', 'mattis', 'maximum', 'maybe', 'mayor', 'mccabe', 'mccain', 'mccarthy', 'mcconnell', 'mccrory', 'mcmaster', 'mcnameegetty', 'mean', 'meaning', 'meaningful', 'meant', 'measure', 'mechanism', 'meddling', 'medicaid', 'medical', 'medicare', 'medicine', 'mediterranean', 'medium', 'meet', 'meeting', 'megyn', 'melania', 'meltdown', 'member', 'membership', 'memo', 'memorial', 'memory', 'men', 'mental', 'mentally', 'mention', 'mentioned', 'merely', 'merit', 'merkel', 'merrick', 'mess', 'message', 'met', 'metal', 'meter', 'method', 'mexican', 'mexico', 'miami', 'michael', 'michel', 'michelle', 'michigan', 'microcephaly', 'middle', 'midterm', 'migrant', 'migration', 'mike', 'mile', 'militant', 'military', 'militia', 'miller', 'million', 'mind', 'miner', 'minimum', 'mining', 'minister', 'ministry', 'minnesota', 'minor', 'minority', 'minute', 'mirror', 'misconduct', 'misleading', 'miss', 'missed', 'missile', 'missing', 'mission', 'mississippi', 'missouri', 'mistake', 'mitch', 'mitt', 'mix', 'mixed', 'mnangagwa', 'mnuchin', 'mobil', 'mobile', 'mock', 'mocked', 'mocking', 'model', 'moderate', 'modern', 'modi', 'mogul', 'mohamed', 'mohammad', 'mohammed', 'mom', 'moment', 'momentum', 'monday', 'monetary', 'money', 'monitor', 'monitoring', 'month', 'monthly', 'monument', 'moon', 'moore', 'moral', 'morale', 'morgan', 'morning', 'moron', 'mortgage', 'moscow', 'mosque', 'mosul', 'mother', 'motion', 'motivated', 'motor', 'mount', 'mountain', 'mounting', 'mouth', 'moved', 'movement', 'movie', 'moving', 'mp', 'mr', 'msnbc', 'mueller', 'muellers', 'mugabe', 'multiple', 'mulvaney', 'municipal', 'murder', 'murdered', 'murphy', 'murray', 'museum', 'music', 'muslim', 'muslimmajority', 'mutual', 'myanmar', 'nafta', 'nairobi', 'named', 'nancy', 'narrative', 'narrow', 'narrowly', 'nasty', 'nation', 'national', 'nationalist', 'nationally', 'nationwide', 'native', 'nato', 'natural', 'naturally', 'nature', 'nauert', 'naval', 'navy', 'nazi', 'nbc', 'near', 'nearby', 'nearly', 'necessarily', 'necessary', 'need', 'needed', 'negative', 'negotiate', 'negotiated', 'negotiating', 'negotiation', 'negotiator', 'neighbor', 'neighborhood', 'neighboring', 'neil', 'nelson', 'neonazis', 'nervous', 'net', 'netanyahu', 'network', 'neutral', 'neutrality', 'nevada', 'new', 'newly', 'news', 'newspaper', 'newt', 'nfl', 'nice', 'nicolas', 'nieto', 'niger', 'nigeria', 'night', 'nightclub', 'nightmare', 'nikki', 'nixon', 'nobel', 'nominate', 'nominated', 'nominating', 'nomination', 'nominee', 'nonetheless', 'nonpartisan', 'nonprofit', 'nonsense', 'norm', 'normal', 'normally', 'north', 'northeast', 'northeastern', 'northern', 'northwest', 'norway', 'notably', 'note', 'noted', 'notice', 'noticed', 'noting', 'notion', 'nov', 'november', 'nra', 'nsa', 'nuclear', 'number', 'numerous', 'nunes', 'nut', 'oath', 'obama', 'obamacare', 'obamaera', 'obamas', 'object', 'objection', 'objective', 'obligation', 'observer', 'obstacle', 'obstruction', 'obtain', 'obtained', 'obvious', 'obviously', 'occasion', 'occupation', 'occupied', 'occur', 'occurred', 'ocean', 'oct', 'october', 'odds', 'odinga', 'offended', 'offense', 'offensive', 'offer', 'offered', 'offering', 'office', 'officer', 'official', 'officially', 'offset', 'offshore', 'oh', 'ohio', 'oil', 'ok', 'okay', 'oklahoma', 'old', 'older', 'omar', 'ongoing', 'online', 'open', 'opened', 'opening', 'openly', 'operate', 'operates', 'operating', 'operation', 'operative', 'operator', 'opinion', 'opioid', 'opponent', 'opportunity', 'oppose', 'opposed', 'opposes', 'opposing', 'opposite', 'opposition', 'optimistic', 'option', 'orange', 'orban', 'order', 'ordered', 'ordinary', 'oregon', 'organization', 'organized', 'organizer', 'organizing', 'origin', 'original', 'originally', 'orlando', 'ought', 'ousted', 'outbreak', 'outcome', 'outgoing', 'outlet', 'outline', 'outlined', 'output', 'outrage', 'outraged', 'outrageous', 'outreach', 'outright', 'outside', 'outsider', 'outspoken', 'oval', 'overall', 'overcome', 'overhaul', 'overnight', 'overseas', 'oversee', 'overseeing', 'oversees', 'oversight', 'overthrow', 'overturn', 'overwhelming', 'overwhelmingly', 'owned', 'owner', 'ownership', 'owns', 'pac', 'pace', 'pacific', 'package', 'packed', 'pact', 'page', 'paid', 'pain', 'paint', 'pair', 'pakistan', 'pakistani', 'palace', 'palestinian', 'palin', 'palm', 'panama', 'panel', 'paper', 'papua', 'parade', 'paragraph', 'paramilitary', 'pardon', 'parent', 'parenthood', 'paris', 'park', 'parliament', 'parliamentary', 'partial', 'partially', 'participant', 'participate', 'participated', 'participating', 'participation', 'particular', 'particularly', 'partisan', 'partly', 'partner', 'partnership', 'party', 'pas', 'pass', 'passage', 'passed', 'passenger', 'passing', 'passport', 'past', 'pastor', 'pat', 'path', 'pathetic', 'patient', 'patrick', 'patriot', 'patrol', 'pattern', 'paul', 'pay', 'paying', 'payment', 'peace', 'peaceful', 'peacekeeping', 'peak', 'pelosi', 'pen', 'pena', 'penalty', 'pending', 'peninsula', 'pennsylvania', 'penny', 'pension', 'pentagon', 'people', 'perceived', 'percent', 'percentage', 'perception', 'perez', 'perfect', 'perfectly', 'perform', 'performance', 'performed', 'period', 'permanent', 'permission', 'permit', 'perry', 'persecution', 'person', 'personal', 'personality', 'personally', 'personnel', 'perspective', 'persuade', 'peru', 'peshmerga', 'peskov', 'peter', 'petition', 'petroleum', 'pharmaceutical', 'phase', 'philadelphia', 'philippine', 'phoenix', 'phone', 'photo', 'photograph', 'phrase', 'physical', 'pi', 'pick', 'picked', 'picking', 'picture', 'piece', 'pilot', 'pipeline', 'pissed', 'pkk', 'place', 'placed', 'plain', 'plaintiff', 'plan', 'plane', 'planet', 'planned', 'planning', 'plant', 'platform', 'play', 'played', 'player', 'playing', 'plea', 'pleaded', 'pleased', 'pledge', 'pledged', 'plenty', 'plot', 'plus', 'pm', 'pocket', 'podesta', 'point', 'pointed', 'pointing', 'poised', 'poland', 'police', 'policeman', 'policy', 'polish', 'political', 'politically', 'politician', 'politico', 'politics', 'poll', 'polling', 'pollster', 'pollution', 'pompeo', 'pool', 'poor', 'poorly', 'pope', 'popular', 'popularity', 'population', 'populist', 'port', 'portfolio', 'portion', 'pose', 'posed', 'position', 'positive', 'possibility', 'possible', 'possibly', 'post', 'posted', 'poster', 'posting', 'potential', 'potentially', 'potus', 'pound', 'poverty', 'powell', 'power', 'powerful', 'practice', 'praise', 'praised', 'praising', 'pray', 'prayer', 'precedent', 'predator', 'predecessor', 'predicted', 'prediction', 'predominantly', 'preexisting', 'prefer', 'preference', 'preferred', 'pregnancy', 'pregnant', 'preliminary', 'premier', 'premium', 'preparation', 'prepare', 'prepared', 'preparing', 'prescription', 'presence', 'present', 'presented', 'preserve', 'presidency', 'president', 'presidentelect', 'presidential', 'press', 'pressed', 'pressing', 'pressure', 'presumptive', 'pretend', 'pretty', 'prevent', 'prevented', 'preventing', 'previous', 'previously', 'price', 'pride', 'priebus', 'primarily', 'primary', 'prime', 'prince', 'principal', 'principle', 'prior', 'priority', 'prison', 'prisoner', 'privacy', 'private', 'privately', 'privilege', 'prize', 'probably', 'probe', 'problem', 'probusiness', 'procedural', 'procedure', 'proceed', 'proceeding', 'process', 'produce', 'produced', 'producer', 'product', 'production', 'prof', 'professional', 'professor', 'profile', 'profit', 'program', 'programme', 'progress', 'progressive', 'prohibited', 'proindependence', 'project', 'projected', 'prominent', 'promise', 'promised', 'promising', 'promote', 'promoted', 'promoting', 'prompted', 'prompting', 'proof', 'propaganda', 'proper', 'properly', 'property', 'proposal', 'propose', 'proposed', 'proposing', 'prosecuted', 'prosecution', 'prosecutor', 'prospect', 'prosperity', 'protect', 'protected', 'protecting', 'protection', 'protects', 'protest', 'protester', 'protesting', 'proud', 'prove', 'proved', 'proven', 'provide', 'provided', 'provider', 'provides', 'providing', 'province', 'provincial', 'proving', 'provision', 'provocation', 'provocative', 'pruitt', 'public', 'publication', 'publicly', 'published', 'puerto', 'puigdemont', 'pull', 'pulled', 'pulling', 'pundit', 'punish', 'punished', 'punishment', 'puppet', 'purchase', 'purge', 'purpose', 'pursue', 'pursuing', 'push', 'pushed', 'pushing', 'putin', 'putting', 'pyongyang', 'qaeda', 'qatar', 'quake', 'qualified', 'quality', 'quarter', 'queen', 'question', 'questioned', 'questioning', 'quick', 'quickly', 'quiet', 'quietly', 'quit', 'quite', 'quo', 'quote', 'quoted', 'race', 'racial', 'racism', 'racist', 'radical', 'radio', 'rage', 'raid', 'rail', 'rain', 'raise', 'raised', 'raising', 'rajoy', 'rakhine', 'rallied', 'rally', 'ramaphosa', 'ran', 'rand', 'range', 'ranging', 'rank', 'ranking', 'rant', 'rape', 'raped', 'rapid', 'rapidly', 'rapist', 'raqqa', 'rare', 'rarely', 'rate', 'rating', 'rauner', 'raw', 'reach', 'reached', 'reaching', 'reaction', 'reactor', 'read', 'reader', 'reading', 'ready', 'reagan', 'real', 'realdonaldtrump', 'reality', 'realize', 'realized', 'really', 'reason', 'reasonable', 'reassure', 'rebel', 'rebellion', 'rebuild', 'rebuke', 'recall', 'recalled', 'receive', 'received', 'receiving', 'recent', 'recently', 'recess', 'recession', 'recipient', 'reckless', 'recognition', 'recognize', 'recognized', 'recommendation', 'recommended', 'reconciliation', 'record', 'recorded', 'recording', 'recount', 'recover', 'recovered', 'recovery', 'red', 'reduce', 'reduced', 'reducing', 'reduction', 'reelection', 'refer', 'reference', 'referendum', 'referred', 'referring', 'refiled', 'reflect', 'reflected', 'reflects', 'reform', 'refuge', 'refugee', 'refusal', 'refuse', 'refused', 'refusing', 'regard', 'regarding', 'regardless', 'regime', 'region', 'regional', 'register', 'registered', 'registration', 'regret', 'regular', 'regularly', 'regulation', 'regulator', 'regulatory', 'reid', 'reilly', 'rein', 'reince', 'reiterated', 'reject', 'rejected', 'rejecting', 'related', 'relation', 'relationship', 'relative', 'relatively', 'release', 'released', 'releasing', 'relevant', 'reliable', 'relief', 'religion', 'religious', 'reluctant', 'rely', 'remain', 'remained', 'remaining', 'remains', 'remark', 'remember', 'remind', 'reminded', 'reminder', 'remote', 'removal', 'remove', 'removed', 'removing', 'renegotiate', 'renewable', 'renewed', 'rep', 'repair', 'repeal', 'repealing', 'repeat', 'repeated', 'repeatedly', 'replace', 'replaced', 'replacement', 'replacing', 'replied', 'reply', 'report', 'reported', 'reportedly', 'reporter', 'reporting', 'represent', 'representation', 'representative', 'represented', 'representing', 'represents', 'republic', 'republican', 'republicancontrolled', 'republicanled', 'reputation', 'request', 'requested', 'require', 'required', 'requirement', 'requires', 'requiring', 'rescue', 'research', 'researcher', 'reservation', 'reserve', 'resettlement', 'residence', 'resident', 'resign', 'resignation', 'resigned', 'resist', 'resistance', 'resolution', 'resolve', 'resolved', 'resort', 'resource', 'respect', 'respected', 'respond', 'responded', 'respondent', 'responding', 'response', 'responsibility', 'responsible', 'rest', 'restaurant', 'restore', 'restoring', 'restrict', 'restriction', 'restroom', 'restructuring', 'result', 'resulted', 'resulting', 'resume', 'retailer', 'retain', 'retaliation', 'retired', 'retirement', 'retreat', 'return', 'returned', 'returning', 'reuters', 'reutersipsos', 'reveal', 'revealed', 'revelation', 'revenue', 'reverse', 'reversed', 'review', 'reviewed', 'reviewing', 'revised', 'revive', 'revolution', 'revolutionary', 'rex', 'rhetoric', 'ria', 'rice', 'rich', 'richard', 'rick', 'rico', 'rid', 'ride', 'ridiculous', 'rifle', 'rift', 'rigged', 'right', 'rightwing', 'ring', 'rio', 'riot', 'ripped', 'rise', 'risen', 'rising', 'risk', 'rival', 'river', 'riyadh', 'rnc', 'road', 'rob', 'robert', 'robust', 'rock', 'rocket', 'rod', 'rodrigo', 'roger', 'rogers', 'rohingya', 'role', 'roll', 'rolled', 'rolling', 'rome', 'romney', 'ron', 'ronald', 'room', 'root', 'rose', 'rosenstein', 'ross', 'roughly', 'rouhani', 'round', 'route', 'routine', 'routinely', 'row', 'roy', 'royal', 'rubio', 'rudy', 'ruin', 'rule', 'ruled', 'ruling', 'rumor', 'run', 'runner', 'running', 'runoff', 'rural', 'rush', 'rushed', 'russia', 'russian', 'ryan', 'saad', 'sachs', 'sacked', 'sacred', 'sacrifice', 'sad', 'safe', 'safeguard', 'safer', 'safety', 'said', 'salary', 'sale', 'saleh', 'salman', 'sam', 'samesex', 'san', 'sanaa', 'sanction', 'sanctuary', 'sander', 'sap', 'sarah', 'sat', 'satellite', 'saturday', 'saudi', 'saudiled', 'save', 'saved', 'saving', 'saw', 'say', 'saying', 'scale', 'scalia', 'scam', 'scandal', 'scaramucci', 'scarborough', 'scared', 'scary', 'scenario', 'scene', 'schedule', 'scheduled', 'scheme', 'schiff', 'school', 'schultz', 'schulz', 'schumer', 'science', 'scientific', 'scientist', 'scope', 'score', 'scotland', 'scott', 'scrap', 'screaming', 'screen', 'screengrab', 'screening', 'screenshot', 'script', 'scrutiny', 'sdf', 'sea', 'seal', 'sean', 'search', 'season', 'seat', 'seattle', 'sec', 'secession', 'secessionist', 'second', 'secret', 'secretary', 'secretarygeneral', 'section', 'sector', 'secure', 'secured', 'securing', 'security', 'seeing', 'seek', 'seeker', 'seeking', 'seemingly', 'seen', 'segment', 'seize', 'seized', 'select', 'selected', 'selection', 'selfdriving', 'sell', 'selling', 'sen', 'senate', 'senator', 'send', 'sending', 'sends', 'senior', 'sense', 'sensitive', 'sent', 'sentence', 'sentenced', 'sentiment', 'seoul', 'separate', 'separately', 'separation', 'separatist', 'sept', 'september', 'serbia', 'serf', 'sergei', 'series', 'seriously', 'servant', 'serve', 'served', 'server', 'service', 'serving', 'session', 'set', 'setback', 'setting', 'settle', 'settled', 'settlement', 'seven', 'severe', 'severely', 'sex', 'sexist', 'sexual', 'sexually', 'shabaab', 'shadow', 'shake', 'shall', 'shame', 'shape', 'share', 'shared', 'sharif', 'sharing', 'sharp', 'sharply', 'sheikh', 'shelter', 'sheriff', 'shes', 'shi', 'shield', 'shift', 'shifted', 'shifting', 'shinzo', 'ship', 'shipping', 'shirt', 'shit', 'shock', 'shocked', 'shocking', 'shoot', 'shooter', 'shooting', 'shop', 'shore', 'short', 'shortage', 'shortly', 'shortterm', 'shot', 'shoulder', 'shouted', 'shouting', 'showed', 'showing', 'shown', 'shut', 'shutdown', 'sick', 'sideline', 'siege', 'sight', 'sign', 'signal', 'signaled', 'signature', 'signed', 'significant', 'significantly', 'signing', 'silence', 'silent', 'silver', 'similar', 'simon', 'simple', 'simply', 'singapore', 'singer', 'single', 'sink', 'sisi', 'sister', 'sit', 'site', 'sits', 'sitting', 'situation', 'sixth', 'size', 'skeptical', 'skill', 'skin', 'sky', 'slammed', 'slash', 'slave', 'slavery', 'sleep', 'slightly', 'slim', 'slogan', 'slow', 'slowly', 'small', 'smaller', 'smart', 'smear', 'smith', 'smoke', 'smooth', 'smuggling', 'snap', 'snyder', 'socalled', 'social', 'socialist', 'society', 'soft', 'software', 'soil', 'sokha', 'solar', 'sold', 'soldier', 'sole', 'solely', 'solid', 'solidarity', 'solution', 'solve', 'somali', 'somalia', 'somebody', 'somewhat', 'somodevillagetty', 'son', 'song', 'soninlaw', 'soon', 'sorry', 'sort', 'sought', 'sound', 'source', 'south', 'southeast', 'southern', 'southwest', 'sovereign', 'sovereignty', 'soviet', 'space', 'spain', 'spanish', 'sparked', 'spd', 'speak', 'speaker', 'speaking', 'speaks', 'special', 'specific', 'specifically', 'speculation', 'speech', 'speed', 'spell', 'spencer', 'spend', 'spending', 'spent', 'spicer', 'spirit', 'split', 'spoke', 'spoken', 'spokesman', 'spokesperson', 'spokeswoman', 'sponsor', 'sport', 'spot', 'spotlight', 'spread', 'spreading', 'spring', 'spy', 'square', 'st', 'stability', 'stable', 'stadium', 'staff', 'staffer', 'stage', 'staged', 'stake', 'stalled', 'stamp', 'stance', 'stand', 'standard', 'standing', 'standoff', 'star', 'start', 'started', 'starting', 'state', 'stated', 'statement', 'stateowned', 'staterun', 'stating', 'station', 'statistic', 'statue', 'status', 'statute', 'staunch', 'stay', 'stayed', 'staying', 'steady', 'steal', 'steel', 'steele', 'stein', 'stem', 'step', 'stephen', 'stepped', 'stepping', 'steve', 'steven', 'stewart', 'stick', 'stock', 'stolen', 'stone', 'stood', 'stop', 'stopped', 'stopping', 'store', 'storm', 'story', 'straight', 'strained', 'strange', 'strategic', 'strategist', 'strategy', 'stream', 'street', 'strength', 'strengthen', 'strengthening', 'stress', 'stressed', 'stretch', 'strict', 'strike', 'striking', 'string', 'strip', 'strong', 'stronger', 'strongest', 'stronghold', 'strongly', 'struck', 'structure', 'struggle', 'struggled', 'struggling', 'stuck', 'student', 'study', 'stuff', 'stunned', 'stunning', 'stupid', 'stupidity', 'style', 'subcommittee', 'subject', 'submarine', 'submit', 'submitted', 'subpoena', 'subsidy', 'substance', 'substantial', 'suburb', 'succeed', 'success', 'successful', 'successfully', 'successor', 'sudan', 'sudden', 'suddenly', 'sue', 'sued', 'suffer', 'suffered', 'suffering', 'sufficient', 'suggest', 'suggested', 'suggesting', 'suggestion', 'suggests', 'suicide', 'suit', 'sullivan', 'sum', 'summer', 'summit', 'sun', 'sunday', 'sunni', 'super', 'supply', 'support', 'supported', 'supporter', 'supporting', 'supportive', 'supposed', 'supposedly', 'supremacist', 'supremacy', 'supreme', 'sure', 'surely', 'surfaced', 'surge', 'surgery', 'surprise', 'surprised', 'surprising', 'surrogate', 'surrounded', 'surrounding', 'surveillance', 'survey', 'survive', 'survived', 'survivor', 'susan', 'suspect', 'suspected', 'suspend', 'suspended', 'suspension', 'suspicion', 'suspicious', 'sustained', 'suu', 'swamp', 'sway', 'sweden', 'sweeping', 'swept', 'swift', 'swing', 'swiss', 'switch', 'switched', 'switzerland', 'sworn', 'sydney', 'symbol', 'syria', 'syrian', 'table', 'tackle', 'tactic', 'taiwan', 'taken', 'taking', 'taliban', 'talk', 'talked', 'talking', 'tally', 'tank', 'tantrum', 'tape', 'tapped', 'tapper', 'target', 'targeted', 'targeting', 'tariff', 'task', 'tax', 'taxpayer', 'taylor', 'tayyip', 'tea', 'teach', 'teacher', 'teaching', 'team', 'tear', 'tech', 'technical', 'technique', 'technology', 'ted', 'teen', 'teenager', 'tehran', 'telephone', 'televised', 'television', 'tell', 'telling', 'temer', 'temper', 'temporarily', 'temporary', 'tend', 'tennessee', 'tense', 'tension', 'tenure', 'term', 'terminal', 'terrible', 'terrifying', 'territorial', 'territory', 'terror', 'terrorism', 'terrorist', 'test', 'tested', 'testified', 'testify', 'testimony', 'testing', 'texas', 'text', 'thai', 'thailand', 'thank', 'thanked', 'thanks', 'thats', 'theft', 'theme', 'theory', 'theresa', 'theyre', 'theyve', 'thing', 'think', 'thinking', 'thomas', 'thought', 'thousand', 'threat', 'threaten', 'threatened', 'threatening', 'threatens', 'threeway', 'threshold', 'threw', 'throw', 'throwing', 'thrown', 'thursday', 'ticket', 'tie', 'tied', 'tight', 'tillerson', 'tillersons', 'tim', 'time', 'timeline', 'timing', 'tiny', 'tip', 'tired', 'title', 'today', 'todd', 'tokyo', 'told', 'tolerate', 'toll', 'tom', 'tomorrow', 'tone', 'tonight', 'tony', 'took', 'tool', 'topic', 'torture', 'total', 'totally', 'touch', 'touched', 'tough', 'tougher', 'tour', 'tourism', 'tourist', 'tower', 'town', 'toxic', 'tpp', 'track', 'tracking', 'trade', 'trader', 'trading', 'tradition', 'traditional', 'traditionally', 'traffic', 'trafficking', 'tragedy', 'trail', 'train', 'trained', 'training', 'transaction', 'transcript', 'transfer', 'transgender', 'transit', 'transition', 'transpacific', 'transparency', 'transparent', 'transport', 'transportation', 'travel', 'traveled', 'traveler', 'traveling', 'treason', 'treasury', 'treat', 'treated', 'treating', 'treatment', 'treaty', 'tree', 'tremendous', 'trend', 'trial', 'tribal', 'tribe', 'tribunal', 'tried', 'trigger', 'triggered', 'trillion', 'trip', 'tripoli', 'troll', 'troop', 'trouble', 'troubled', 'troubling', 'truck', 'trudeau', 'true', 'truly', 'trump', 'trust', 'trusted', 'truth', 'try', 'trying', 'tsai', 'tuesday', 'turkey', 'turkish', 'turmoil', 'turn', 'turnbull', 'turned', 'turning', 'turnout', 'tusk', 'tv', 'tweet', 'tweeted', 'tweeting', 'twice', 'twitter', 'twothirds', 'twoyear', 'type', 'typical', 'typically', 'uae', 'ugly', 'uk', 'ukraine', 'ukrainian', 'ultimate', 'ultimately', 'unable', 'unacceptable', 'unanimously', 'unaware', 'uncertain', 'uncertainty', 'unclear', 'uncomfortable', 'unconstitutional', 'uncovered', 'underground', 'undermine', 'undermining', 'understand', 'understanding', 'understands', 'understood', 'underway', 'undo', 'undocumented', 'unemployment', 'unfair', 'unfairly', 'unfit', 'unfortunate', 'unfortunately', 'unidentified', 'unified', 'uniform', 'unilateral', 'uninsured', 'union', 'unique', 'unit', 'unite', 'united', 'unity', 'universal', 'university', 'unknown', 'unless', 'unlike', 'unlikely', 'unnamed', 'unnecessary', 'unpopular', 'unprecedented', 'unrest', 'unusual', 'unveiled', 'upcoming', 'update', 'updated', 'upheld', 'uphold', 'upper', 'uprising', 'upset', 'uranium', 'urban', 'urge', 'urged', 'urgent', 'urging', 'usa', 'usbacked', 'usbased', 'use', 'used', 'user', 'using', 'usled', 'usual', 'usually', 'utah', 'utility', 'vacancy', 'vacation', 'vaccine', 'valid', 'valley', 'value', 'van', 'variety', 'various', 'vast', 'vatican', 'vega', 'vehicle', 'venezuela', 'venezuelan', 'venture', 'verdict', 'verified', 'verify', 'vermont', 'version', 'versus', 'vessel', 'veteran', 'veto', 'vetting', 'vice', 'victim', 'victory', 'video', 'vietnam', 'view', 'viewed', 'viewer', 'vile', 'village', 'villager', 'violate', 'violated', 'violates', 'violating', 'violation', 'violence', 'violent', 'viral', 'virginia', 'virtually', 'virus', 'visa', 'vision', 'visit', 'visited', 'visiting', 'visitor', 'vital', 'vladimir', 'vocal', 'voice', 'voiced', 'volume', 'volunteer', 'vote', 'voted', 'voter', 'voting', 'vow', 'vowed', 'vulnerable', 'wage', 'wait', 'waited', 'waiting', 'waiver', 'wake', 'walk', 'walked', 'walker', 'walking', 'wall', 'wallace', 'walsh', 'wang', 'want', 'wanted', 'wanting', 'war', 'warm', 'warming', 'warn', 'warned', 'warner', 'warning', 'warrant', 'warren', 'warsaw', 'wary', 'washington', 'wasnt', 'waste', 'watch', 'watchdog', 'watched', 'watching', 'water', 'waterboarding', 'wave', 'way', 'weak', 'weaken', 'weakened', 'wealth', 'wealthy', 'weapon', 'wear', 'wearing', 'weather', 'web', 'website', 'wednesday', 'week', 'weekend', 'weekly', 'weigh', 'weighed', 'weighing', 'weight', 'weinstein', 'weird', 'welcome', 'welcomed', 'welfare', 'wellknown', 'went', 'west', 'western', 'weve', 'whats', 'whatsoever', 'whining', 'white', 'wide', 'widely', 'wider', 'widespread', 'wife', 'wikileaks', 'wikimedia', 'wilbur', 'wild', 'wildlife', 'william', 'williams', 'willing', 'willingness', 'wilson', 'win', 'wind', 'window', 'wing', 'winner', 'winning', 'winter', 'wisconsin', 'wise', 'wish', 'witch', 'withdraw', 'withdrawal', 'withdrawing', 'withdrew', 'witness', 'witnessed', 'wolf', 'woman', 'womens', 'wonder', 'wonderful', 'wondering', 'wonggetty', 'wont', 'wood', 'word', 'work', 'worked', 'worker', 'workforce', 'working', 'workplace', 'world', 'worldwide', 'worried', 'worry', 'worse', 'worship', 'worst', 'worth', 'wouldnt', 'wound', 'wounded', 'write', 'writer', 'writes', 'writing', 'written', 'wrong', 'wrongdoing', 'wrote', 'wyden', 'xi', 'xinhua', 'yates', 'yeah', 'year', 'yellen', 'yemen', 'yemeni', 'yes', 'yesterday', 'yield', 'york', 'young', 'younger', 'youre', 'youth', 'youtube', 'ypg', 'zanupf', 'zarrab', 'zealand', 'zero', 'zika', 'zimbabwe', 'zinke', 'zone', 'zuma']\n",
      "10000\n"
     ]
    }
   ],
   "source": [
    "import numpy as np\n",
    "# Get feature names from the vectorizer\n",
    "title_feature_names = title_vectorizer.get_feature_names_out().tolist()\n",
    "text_feature_names = text_vectorizer.get_feature_names_out().tolist()\n",
    "\n",
    "# Combine feature names (if using multiple vectorizers)\n",
    "feature_names = list(title_feature_names) + list(text_feature_names)\n",
    "print(feature_names)\n",
    "\n",
    "np.save('features_names_variable.npy', feature_names)\n",
    "print(len(title_vectorizer.get_feature_names_out()) + len(text_vectorizer.get_feature_names_out()))\n",
    "\n"
   ]
  },
  {
   "cell_type": "code",
   "execution_count": 14,
   "metadata": {},
   "outputs": [
    {
     "name": "stdout",
     "output_type": "stream",
     "text": [
      "Final Feature Shape: (31794, 10004)\n"
     ]
    }
   ],
   "source": [
    "from scipy.sparse import hstack, csr_matrix  # Import sparse utilities\n",
    "\n",
    "# Combine numeric features with sparse TF-IDF features\n",
    "numeric_data = df[numeric_features].values\n",
    "numeric_data_sparse = csr_matrix(numeric_data)  # Convert to sparse matrix\n",
    "\n",
    "# Use sparse hstack to combine all features\n",
    "final_features = hstack([numeric_data_sparse, title_vectors, text_vectors])\n",
    "\n",
    "# Ensure the target variable remains as a dense array\n",
    "labels = df['label_encoded'].values\n",
    "\n",
    "print(\"Final Feature Shape:\", final_features.shape)\n"
   ]
  },
  {
   "cell_type": "code",
   "execution_count": 15,
   "metadata": {},
   "outputs": [
    {
     "name": "stdout",
     "output_type": "stream",
     "text": [
      "<class 'pandas.core.frame.DataFrame'>\n",
      "RangeIndex: 31794 entries, 0 to 31793\n",
      "Data columns (total 10 columns):\n",
      " #   Column         Non-Null Count  Dtype  \n",
      "---  ------         --------------  -----  \n",
      " 0   title          31794 non-null  object \n",
      " 1   text           31794 non-null  object \n",
      " 2   label          31794 non-null  object \n",
      " 3   title_length   31794 non-null  float64\n",
      " 4   text_length    31794 non-null  float64\n",
      " 5   sentiment      31794 non-null  float64\n",
      " 6   readability    31794 non-null  float64\n",
      " 7   label_encoded  31794 non-null  int64  \n",
      " 8   title_tokens   31794 non-null  object \n",
      " 9   text_tokens    31794 non-null  object \n",
      "dtypes: float64(4), int64(1), object(5)\n",
      "memory usage: 2.4+ MB\n",
      "None\n"
     ]
    }
   ],
   "source": [
    "print(df.info())"
   ]
  },
  {
   "cell_type": "code",
   "execution_count": 16,
   "metadata": {},
   "outputs": [
    {
     "name": "stdout",
     "output_type": "stream",
     "text": [
      "['title_length', 'text_length', 'sentiment', 'readability']\n"
     ]
    }
   ],
   "source": [
    "print(numeric_features)  # Should exclude 'label_encoded'\n"
   ]
  },
  {
   "cell_type": "code",
   "execution_count": 17,
   "metadata": {},
   "outputs": [
    {
     "data": {
      "text/plain": [
       "['text_vectorizer.pkl']"
      ]
     },
     "execution_count": 17,
     "metadata": {},
     "output_type": "execute_result"
    }
   ],
   "source": [
    "import joblib\n",
    "\n",
    "# Save features and labels\n",
    "joblib.dump(final_features, 'final_features.pkl')\n",
    "joblib.dump(labels, 'labels.pkl')\n",
    "joblib.dump(title_vectorizer, 'title_vectorizer.pkl')\n",
    "joblib.dump(text_vectorizer, 'text_vectorizer.pkl')\n"
   ]
  }
 ],
 "metadata": {
  "kernelspec": {
   "display_name": "venv",
   "language": "python",
   "name": "python3"
  },
  "language_info": {
   "codemirror_mode": {
    "name": "ipython",
    "version": 3
   },
   "file_extension": ".py",
   "mimetype": "text/x-python",
   "name": "python",
   "nbconvert_exporter": "python",
   "pygments_lexer": "ipython3",
   "version": "3.12.2"
  }
 },
 "nbformat": 4,
 "nbformat_minor": 2
}
